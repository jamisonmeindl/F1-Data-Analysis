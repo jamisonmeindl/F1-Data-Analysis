{
 "cells": [
  {
   "cell_type": "code",
   "execution_count": 1,
   "metadata": {},
   "outputs": [],
   "source": [
    "import pandas as pd\n",
    "from sklearn.linear_model import Ridge\n",
    "import joblib\n",
    "import numpy as np\n",
    "from sklearn.metrics import mean_squared_error\n",
    "from sklearn import tree\n",
    "from sklearn.model_selection import GridSearchCV\n",
    "# import torch"
   ]
  },
  {
   "cell_type": "code",
   "execution_count": 2,
   "metadata": {},
   "outputs": [],
   "source": [
    "data = pd.read_pickle('train_data.pkl')"
   ]
  },
  {
   "cell_type": "code",
   "execution_count": 3,
   "metadata": {},
   "outputs": [],
   "source": [
    "data = data.dropna()"
   ]
  },
  {
   "cell_type": "code",
   "execution_count": 4,
   "metadata": {},
   "outputs": [],
   "source": [
    "train_data = data[data['EventDate'] <= np.datetime64('2022-12-31')]\n",
    "#valid_data = data[(data['EventDate'] > np.datetime64('2021-12-31')) &(data['EventDate'] <= np.datetime64('2022-06-30'))]\n",
    "test_data = data[data['EventDate'] > np.datetime64('2022-12-31')]"
   ]
  },
  {
   "cell_type": "code",
   "execution_count": 5,
   "metadata": {},
   "outputs": [],
   "source": [
    "X_cols = ['TyreLife_1', 'LapPercent_1', 'TyreLife_2_1', 'LapPercent_2_1', 'TyreLife_2', 'LapPercent_2', 'TyreLife_2_2', 'LapPercent_2_2']"
   ]
  },
  {
   "cell_type": "code",
   "execution_count": 6,
   "metadata": {},
   "outputs": [],
   "source": [
    "train_X = train_data[X_cols]\n",
    "train_y = train_data['LapPercent']\n",
    "\n",
    "# valid_X = valid_data[X_cols]\n",
    "# valid_y = valid_data['LapPercent']"
   ]
  },
  {
   "cell_type": "code",
   "execution_count": 7,
   "metadata": {},
   "outputs": [],
   "source": [
    "# alphas = [0.1, 1, 10]\n",
    "# mse = []\n",
    "# for alpha in alphas:\n",
    "#     model = Ridge(alpha=alpha).fit(train_X, train_y)\n",
    "#     pred = model.predict(valid_X)\n",
    "#     mse.append(mean_squared_error(pred, valid_y))"
   ]
  },
  {
   "cell_type": "code",
   "execution_count": 8,
   "metadata": {},
   "outputs": [],
   "source": [
    "model = tree.DecisionTreeRegressor()"
   ]
  },
  {
   "cell_type": "code",
   "execution_count": 9,
   "metadata": {},
   "outputs": [],
   "source": [
    "params = {'max_depth': [3,5,7], 'min_samples_leaf': [2,4,8]}\n",
    "best_model = GridSearchCV(model, param_grid = params).fit(train_X, train_y)"
   ]
  },
  {
   "cell_type": "code",
   "execution_count": 16,
   "metadata": {},
   "outputs": [
    {
     "data": {
      "text/plain": [
       "{'max_depth': 3, 'min_samples_leaf': 8}"
      ]
     },
     "execution_count": 16,
     "metadata": {},
     "output_type": "execute_result"
    }
   ],
   "source": [
    "best_model.best_params_"
   ]
  },
  {
   "cell_type": "code",
   "execution_count": 11,
   "metadata": {},
   "outputs": [],
   "source": [
    "test_X = test_data[X_cols]\n",
    "test_y = test_data['LapPercent']\n",
    "pred = best_model.predict(test_X)"
   ]
  },
  {
   "cell_type": "code",
   "execution_count": 12,
   "metadata": {},
   "outputs": [
    {
     "data": {
      "text/plain": [
       "0.0014398518283853024"
      ]
     },
     "execution_count": 12,
     "metadata": {},
     "output_type": "execute_result"
    }
   ],
   "source": [
    "mean_squared_error(pred, test_y)"
   ]
  },
  {
   "cell_type": "code",
   "execution_count": 41,
   "metadata": {},
   "outputs": [
    {
     "data": {
      "text/plain": [
       "758    0.000000\n",
       "759    0.027567\n",
       "760    0.001538\n",
       "761    0.007000\n",
       "762    0.003255\n",
       "         ...   \n",
       "893    0.007555\n",
       "894    0.006393\n",
       "895    0.014584\n",
       "896    0.023591\n",
       "897    0.010889\n",
       "Name: LapPercent, Length: 137, dtype: float64"
      ]
     },
     "execution_count": 41,
     "metadata": {},
     "output_type": "execute_result"
    }
   ],
   "source": [
    "test_y"
   ]
  },
  {
   "cell_type": "code",
   "execution_count": 13,
   "metadata": {},
   "outputs": [
    {
     "data": {
      "text/plain": [
       "array([0.01524373, 0.01524373, 0.00319285, 0.00701426, 0.01524373,\n",
       "       0.00319285, 0.01524373, 0.02098179, 0.02098179, 0.01524373,\n",
       "       0.03662628, 0.02098179, 0.02098179, 0.0052195 , 0.02098179,\n",
       "       0.0052195 , 0.0052195 , 0.01524373, 0.01524373, 0.02098179,\n",
       "       0.00319285, 0.0052195 , 0.01524373, 0.0052195 , 0.01524373,\n",
       "       0.0052195 , 0.02991679, 0.02991679, 0.02098179, 0.02098179,\n",
       "       0.01524373, 0.02991679, 0.02098179, 0.0052195 , 0.02991679,\n",
       "       0.01524373, 0.03662628, 0.01524373, 0.02991679, 0.02098179,\n",
       "       0.00319285, 0.01524373, 0.00701426, 0.0052195 , 0.02098179,\n",
       "       0.0468853 , 0.01524373, 0.02098179, 0.02098179, 0.02098179,\n",
       "       0.02098179, 0.01524373, 0.01524373, 0.02098179, 0.00701426,\n",
       "       0.01524373, 0.01524373, 0.01524373, 0.00319285, 0.0468853 ,\n",
       "       0.00319285, 0.02098179, 0.00319285, 0.02098179, 0.0468853 ,\n",
       "       0.0468853 , 0.02098179, 0.02098179, 0.02098179, 0.02098179,\n",
       "       0.0468853 , 0.02098179, 0.02098179, 0.00701426, 0.0468853 ,\n",
       "       0.02098179, 0.02098179, 0.00701426, 0.02098179, 0.01524373,\n",
       "       0.01524373, 0.03662628, 0.01524373, 0.02098179, 0.02098179,\n",
       "       0.02991679, 0.02098179, 0.02098179, 0.02098179, 0.02098179,\n",
       "       0.01524373, 0.0468853 , 0.01524373, 0.00319285, 0.02098179,\n",
       "       0.02098179, 0.02098179, 0.01524373, 0.02098179, 0.00701426,\n",
       "       0.00319285, 0.0052195 , 0.01524373, 0.02991679, 0.02098179,\n",
       "       0.02098179, 0.02098179, 0.02098179, 0.02991679, 0.02991679,\n",
       "       0.01524373, 0.01524373, 0.0052195 , 0.00319285, 0.0052195 ,\n",
       "       0.01524373, 0.02098179, 0.00701426, 0.01524373, 0.02098179,\n",
       "       0.00319285, 0.02098179, 0.02098179, 0.02098179, 0.02098179,\n",
       "       0.01524373, 0.02098179, 0.02098179, 0.02098179, 0.02098179,\n",
       "       0.00701426, 0.02098179, 0.02991679, 0.01524373, 0.02098179,\n",
       "       0.01524373, 0.02098179])"
      ]
     },
     "execution_count": 13,
     "metadata": {},
     "output_type": "execute_result"
    }
   ],
   "source": [
    "pred"
   ]
  },
  {
   "cell_type": "code",
   "execution_count": 17,
   "metadata": {},
   "outputs": [
    {
     "data": {
      "text/plain": [
       "['model.pkl']"
      ]
     },
     "execution_count": 17,
     "metadata": {},
     "output_type": "execute_result"
    }
   ],
   "source": [
    "joblib.dump(best_model, 'model.pkl')"
   ]
  }
 ],
 "metadata": {
  "kernelspec": {
   "display_name": "base",
   "language": "python",
   "name": "python3"
  },
  "language_info": {
   "codemirror_mode": {
    "name": "ipython",
    "version": 3
   },
   "file_extension": ".py",
   "mimetype": "text/x-python",
   "name": "python",
   "nbconvert_exporter": "python",
   "pygments_lexer": "ipython3",
   "version": "3.8.5"
  },
  "orig_nbformat": 4
 },
 "nbformat": 4,
 "nbformat_minor": 2
}
