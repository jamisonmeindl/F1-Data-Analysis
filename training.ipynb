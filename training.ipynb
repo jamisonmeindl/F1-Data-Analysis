{
 "cells": [
  {
   "cell_type": "code",
   "execution_count": 1,
   "metadata": {},
   "outputs": [],
   "source": [
    "import pandas as pd\n",
    "import numpy as np\n",
    "from sklearn import linear_model\n",
    "import joblib\n",
    "import numpy as np\n",
    "from sklearn.metrics import mean_squared_error\n",
    "from sklearn.metrics import r2_score\n",
    "from sklearn.model_selection import GridSearchCV\n",
    "from sklearn import tree"
   ]
  },
  {
   "cell_type": "code",
   "execution_count": 2,
   "metadata": {},
   "outputs": [],
   "source": [
    "data = pd.read_pickle('train_data.pkl')"
   ]
  },
  {
   "cell_type": "code",
   "execution_count": 3,
   "metadata": {},
   "outputs": [
    {
     "data": {
      "text/plain": [
       "Index(['DriverNumber', 'Team', 'Driver', 'LapTime_1', 'Sector1Time_1',\n",
       "       'Sector2Time_1', 'Sector3Time_1', 'LapPercent_1', 'LapPosition_1',\n",
       "       'Sector1Percent_1', 'Sector1Position_1', 'Sector2Percent_1',\n",
       "       'Sector2Position_1', 'Sector3Percent_1', 'Sector3Position_1',\n",
       "       'LapTime_1_1', 'Sector1Time_1_1', 'Sector2Time_1_1', 'Sector3Time_1_1',\n",
       "       'LapPercent_1_1', 'LapPosition_1_1', 'Sector1Percent_1_1',\n",
       "       'Sector1Position_1_1', 'Sector2Percent_1_1', 'Sector2Position_1_1',\n",
       "       'Sector3Percent_1_1', 'Sector3Position_1_1', 'LapTime_2',\n",
       "       'Sector1Time_2', 'Sector2Time_2', 'Sector3Time_2', 'LapPercent_2',\n",
       "       'LapPosition_2', 'Sector1Percent_2', 'Sector1Position_2',\n",
       "       'Sector2Percent_2', 'Sector2Position_2', 'Sector3Percent_2',\n",
       "       'Sector3Position_2', 'LapTime_1_2', 'Sector1Time_1_2',\n",
       "       'Sector2Time_1_2', 'Sector3Time_1_2', 'LapPercent_1_2',\n",
       "       'LapPosition_1_2', 'Sector1Percent_1_2', 'Sector1Position_1_2',\n",
       "       'Sector2Percent_1_2', 'Sector2Position_1_2', 'Sector3Percent_1_2',\n",
       "       'Sector3Position_1_2', 'Position', 'LapPercent', 'RoundNumber',\n",
       "       'Country', 'Location', 'OfficialEventName', 'EventDate', 'EventName',\n",
       "       'EventFormat', 'PrevLapPercent1', 'PrevPosition1', 'PrevLapPercent2',\n",
       "       'PrevPosition2', 'PrevLapPercent3', 'PrevPosition3'],\n",
       "      dtype='object')"
      ]
     },
     "execution_count": 3,
     "metadata": {},
     "output_type": "execute_result"
    }
   ],
   "source": [
    "data.columns"
   ]
  },
  {
   "cell_type": "code",
   "execution_count": 4,
   "metadata": {},
   "outputs": [],
   "source": [
    "data = data.dropna()"
   ]
  },
  {
   "cell_type": "code",
   "execution_count": 5,
   "metadata": {},
   "outputs": [
    {
     "data": {
      "text/plain": [
       "DriverNumber                           10\n",
       "Team                           Toro Rosso\n",
       "Driver                                GAS\n",
       "LapTime_1          0 days 00:01:46.492000\n",
       "Sector1Time_1      0 days 00:00:37.686000\n",
       "                            ...          \n",
       "PrevPosition1                        17.0\n",
       "PrevLapPercent2                  0.015587\n",
       "PrevPosition2                         6.0\n",
       "PrevLapPercent3                  0.050897\n",
       "PrevPosition3                        20.0\n",
       "Name: 60, Length: 66, dtype: object"
      ]
     },
     "execution_count": 5,
     "metadata": {},
     "output_type": "execute_result"
    }
   ],
   "source": [
    "data.iloc[0]"
   ]
  },
  {
   "cell_type": "code",
   "execution_count": 6,
   "metadata": {},
   "outputs": [],
   "source": [
    "train_data = data[data['EventDate'] <= np.datetime64('2022-06-30')]\n",
    "test_data = data[data['EventDate'] > np.datetime64('2022-06-30')]"
   ]
  },
  {
   "cell_type": "code",
   "execution_count": 7,
   "metadata": {},
   "outputs": [],
   "source": [
    "train_data = train_data.select_dtypes(include=np.float64)"
   ]
  },
  {
   "cell_type": "code",
   "execution_count": 8,
   "metadata": {},
   "outputs": [],
   "source": [
    "for col in train_data.columns:\n",
    "    percentiles = train_data[col].quantile([0, 0.99]).values\n",
    "    train_data.loc[train_data[col] >= percentiles[1], col] = percentiles[1]"
   ]
  },
  {
   "cell_type": "code",
   "execution_count": 9,
   "metadata": {},
   "outputs": [],
   "source": [
    "# norm = Normalizer()"
   ]
  },
  {
   "cell_type": "code",
   "execution_count": 10,
   "metadata": {},
   "outputs": [],
   "source": [
    "# scores = {}\n",
    "# for col in train_data.select_dtypes(include=np.float64).columns:\n",
    "#     scores[col] = r2_score(train_data['Position'], train_data[col])"
   ]
  },
  {
   "cell_type": "code",
   "execution_count": 33,
   "metadata": {},
   "outputs": [],
   "source": [
    "X_cols =['LapPercent_1', 'LapPercent_2', 'PrevPosition1',\n",
    "       'PrevPosition2', 'PrevPosition3', 'PrevLapPercent1',\n",
    "       'PrevLapPercent2', 'PrevLapPercent3']"
   ]
  },
  {
   "cell_type": "code",
   "execution_count": 34,
   "metadata": {},
   "outputs": [],
   "source": [
    "train_X = train_data[X_cols]\n",
    "train_y = train_data['LapPercent']"
   ]
  },
  {
   "cell_type": "code",
   "execution_count": 35,
   "metadata": {},
   "outputs": [],
   "source": [
    "train_X.to_pickle('train_X.pkl')"
   ]
  },
  {
   "cell_type": "code",
   "execution_count": 36,
   "metadata": {},
   "outputs": [],
   "source": [
    "train_X_norm = (train_X - train_X.mean()) / train_X.std()\n",
    "# train_y = (train_y - train_y.mean()) / train_y.std()"
   ]
  },
  {
   "cell_type": "code",
   "execution_count": 37,
   "metadata": {},
   "outputs": [],
   "source": [
    "\n",
    "# for col in train_X.columns:\n",
    "#     lower_percentile = 0.05\n",
    "#     higher_percentile = 0.95\n",
    "\n",
    "#     low, high = train_X[col].quantile([lower_percentile, higher_percentile])\n",
    "\n",
    "#     #cap values above high to high\n",
    "#     train_X.loc[:,col] = train_X.loc[:,col].apply(lambda x: high if x > high else x)#[train_X[col] > high] = high\n"
   ]
  },
  {
   "cell_type": "code",
   "execution_count": null,
   "metadata": {},
   "outputs": [],
   "source": []
  },
  {
   "cell_type": "code",
   "execution_count": 38,
   "metadata": {},
   "outputs": [],
   "source": [
    "# train_X = (train_X - train_X.mean()) / train_X.std()"
   ]
  },
  {
   "cell_type": "code",
   "execution_count": 39,
   "metadata": {},
   "outputs": [
    {
     "data": {
      "text/plain": [
       "8"
      ]
     },
     "execution_count": 39,
     "metadata": {},
     "output_type": "execute_result"
    }
   ],
   "source": [
    "train_X_norm.columns.size"
   ]
  },
  {
   "cell_type": "code",
   "execution_count": 40,
   "metadata": {},
   "outputs": [
    {
     "data": {
      "text/html": [
       "<div>\n",
       "<style scoped>\n",
       "    .dataframe tbody tr th:only-of-type {\n",
       "        vertical-align: middle;\n",
       "    }\n",
       "\n",
       "    .dataframe tbody tr th {\n",
       "        vertical-align: top;\n",
       "    }\n",
       "\n",
       "    .dataframe thead th {\n",
       "        text-align: right;\n",
       "    }\n",
       "</style>\n",
       "<table border=\"1\" class=\"dataframe\">\n",
       "  <thead>\n",
       "    <tr style=\"text-align: right;\">\n",
       "      <th></th>\n",
       "      <th>LapPercent_1</th>\n",
       "      <th>LapPercent_2</th>\n",
       "      <th>PrevPosition1</th>\n",
       "      <th>PrevPosition2</th>\n",
       "      <th>PrevPosition3</th>\n",
       "      <th>PrevLapPercent1</th>\n",
       "      <th>PrevLapPercent2</th>\n",
       "      <th>PrevLapPercent3</th>\n",
       "    </tr>\n",
       "  </thead>\n",
       "  <tbody>\n",
       "    <tr>\n",
       "      <th>60</th>\n",
       "      <td>0.218996</td>\n",
       "      <td>0.244418</td>\n",
       "      <td>1.241772</td>\n",
       "      <td>-0.694936</td>\n",
       "      <td>1.782656</td>\n",
       "      <td>0.986220</td>\n",
       "      <td>-0.258550</td>\n",
       "      <td>2.246792</td>\n",
       "    </tr>\n",
       "    <tr>\n",
       "      <th>61</th>\n",
       "      <td>-0.844265</td>\n",
       "      <td>-0.273708</td>\n",
       "      <td>-0.348679</td>\n",
       "      <td>0.374852</td>\n",
       "      <td>0.540552</td>\n",
       "      <td>-0.071410</td>\n",
       "      <td>0.425786</td>\n",
       "      <td>1.112222</td>\n",
       "    </tr>\n",
       "    <tr>\n",
       "      <th>62</th>\n",
       "      <td>0.198736</td>\n",
       "      <td>-0.675483</td>\n",
       "      <td>0.534905</td>\n",
       "      <td>0.553151</td>\n",
       "      <td>0.185666</td>\n",
       "      <td>0.301871</td>\n",
       "      <td>0.472125</td>\n",
       "      <td>0.753381</td>\n",
       "    </tr>\n",
       "    <tr>\n",
       "      <th>63</th>\n",
       "      <td>0.506384</td>\n",
       "      <td>0.451668</td>\n",
       "      <td>1.595205</td>\n",
       "      <td>1.622939</td>\n",
       "      <td>1.427769</td>\n",
       "      <td>1.264212</td>\n",
       "      <td>1.471736</td>\n",
       "      <td>1.667193</td>\n",
       "    </tr>\n",
       "    <tr>\n",
       "      <th>64</th>\n",
       "      <td>0.292531</td>\n",
       "      <td>0.014443</td>\n",
       "      <td>1.418489</td>\n",
       "      <td>1.801237</td>\n",
       "      <td>0.717996</td>\n",
       "      <td>1.131122</td>\n",
       "      <td>1.540418</td>\n",
       "      <td>1.310112</td>\n",
       "    </tr>\n",
       "    <tr>\n",
       "      <th>...</th>\n",
       "      <td>...</td>\n",
       "      <td>...</td>\n",
       "      <td>...</td>\n",
       "      <td>...</td>\n",
       "      <td>...</td>\n",
       "      <td>...</td>\n",
       "      <td>...</td>\n",
       "      <td>...</td>\n",
       "    </tr>\n",
       "    <tr>\n",
       "      <th>1694</th>\n",
       "      <td>0.679789</td>\n",
       "      <td>0.252766</td>\n",
       "      <td>1.771922</td>\n",
       "      <td>0.909747</td>\n",
       "      <td>0.008222</td>\n",
       "      <td>1.744452</td>\n",
       "      <td>0.345605</td>\n",
       "      <td>0.080201</td>\n",
       "    </tr>\n",
       "    <tr>\n",
       "      <th>1695</th>\n",
       "      <td>-0.550352</td>\n",
       "      <td>-1.101052</td>\n",
       "      <td>-0.171962</td>\n",
       "      <td>-0.160042</td>\n",
       "      <td>1.072882</td>\n",
       "      <td>-0.155193</td>\n",
       "      <td>-0.131630</td>\n",
       "      <td>0.611394</td>\n",
       "    </tr>\n",
       "    <tr>\n",
       "      <th>1696</th>\n",
       "      <td>-1.213296</td>\n",
       "      <td>-1.214500</td>\n",
       "      <td>-1.055546</td>\n",
       "      <td>-1.408129</td>\n",
       "      <td>-1.233881</td>\n",
       "      <td>-1.059010</td>\n",
       "      <td>-1.163601</td>\n",
       "      <td>-1.009378</td>\n",
       "    </tr>\n",
       "    <tr>\n",
       "      <th>1697</th>\n",
       "      <td>0.698523</td>\n",
       "      <td>1.504480</td>\n",
       "      <td>1.418489</td>\n",
       "      <td>1.622939</td>\n",
       "      <td>1.782656</td>\n",
       "      <td>1.455683</td>\n",
       "      <td>1.693694</td>\n",
       "      <td>1.482513</td>\n",
       "    </tr>\n",
       "    <tr>\n",
       "      <th>1698</th>\n",
       "      <td>-0.778271</td>\n",
       "      <td>-0.434227</td>\n",
       "      <td>-0.878829</td>\n",
       "      <td>-0.694936</td>\n",
       "      <td>-1.056438</td>\n",
       "      <td>-0.423436</td>\n",
       "      <td>-0.642517</td>\n",
       "      <td>-0.803609</td>\n",
       "    </tr>\n",
       "  </tbody>\n",
       "</table>\n",
       "<p>1338 rows × 8 columns</p>\n",
       "</div>"
      ],
      "text/plain": [
       "      LapPercent_1  LapPercent_2  PrevPosition1  PrevPosition2  PrevPosition3  \\\n",
       "60        0.218996      0.244418       1.241772      -0.694936       1.782656   \n",
       "61       -0.844265     -0.273708      -0.348679       0.374852       0.540552   \n",
       "62        0.198736     -0.675483       0.534905       0.553151       0.185666   \n",
       "63        0.506384      0.451668       1.595205       1.622939       1.427769   \n",
       "64        0.292531      0.014443       1.418489       1.801237       0.717996   \n",
       "...            ...           ...            ...            ...            ...   \n",
       "1694      0.679789      0.252766       1.771922       0.909747       0.008222   \n",
       "1695     -0.550352     -1.101052      -0.171962      -0.160042       1.072882   \n",
       "1696     -1.213296     -1.214500      -1.055546      -1.408129      -1.233881   \n",
       "1697      0.698523      1.504480       1.418489       1.622939       1.782656   \n",
       "1698     -0.778271     -0.434227      -0.878829      -0.694936      -1.056438   \n",
       "\n",
       "      PrevLapPercent1  PrevLapPercent2  PrevLapPercent3  \n",
       "60           0.986220        -0.258550         2.246792  \n",
       "61          -0.071410         0.425786         1.112222  \n",
       "62           0.301871         0.472125         0.753381  \n",
       "63           1.264212         1.471736         1.667193  \n",
       "64           1.131122         1.540418         1.310112  \n",
       "...               ...              ...              ...  \n",
       "1694         1.744452         0.345605         0.080201  \n",
       "1695        -0.155193        -0.131630         0.611394  \n",
       "1696        -1.059010        -1.163601        -1.009378  \n",
       "1697         1.455683         1.693694         1.482513  \n",
       "1698        -0.423436        -0.642517        -0.803609  \n",
       "\n",
       "[1338 rows x 8 columns]"
      ]
     },
     "execution_count": 40,
     "metadata": {},
     "output_type": "execute_result"
    }
   ],
   "source": [
    "train_X_norm"
   ]
  },
  {
   "cell_type": "code",
   "execution_count": 41,
   "metadata": {},
   "outputs": [
    {
     "data": {
      "text/plain": [
       "LinearRegression()"
      ]
     },
     "execution_count": 41,
     "metadata": {},
     "output_type": "execute_result"
    }
   ],
   "source": [
    "model = linear_model.LinearRegression()\n",
    "model.fit(train_X_norm, train_y)"
   ]
  },
  {
   "cell_type": "code",
   "execution_count": 42,
   "metadata": {},
   "outputs": [],
   "source": [
    "# params = {}\n",
    "# best_model = GridSearchCV(model, param_grid = params).fit(train_X, train_y)"
   ]
  },
  {
   "cell_type": "code",
   "execution_count": 43,
   "metadata": {},
   "outputs": [
    {
     "data": {
      "text/html": [
       "<div>\n",
       "<style scoped>\n",
       "    .dataframe tbody tr th:only-of-type {\n",
       "        vertical-align: middle;\n",
       "    }\n",
       "\n",
       "    .dataframe tbody tr th {\n",
       "        vertical-align: top;\n",
       "    }\n",
       "\n",
       "    .dataframe thead th {\n",
       "        text-align: right;\n",
       "    }\n",
       "</style>\n",
       "<table border=\"1\" class=\"dataframe\">\n",
       "  <thead>\n",
       "    <tr style=\"text-align: right;\">\n",
       "      <th></th>\n",
       "      <th>0</th>\n",
       "      <th>0</th>\n",
       "    </tr>\n",
       "  </thead>\n",
       "  <tbody>\n",
       "    <tr>\n",
       "      <th>0</th>\n",
       "      <td>LapPercent_1</td>\n",
       "      <td>0.002037</td>\n",
       "    </tr>\n",
       "    <tr>\n",
       "      <th>1</th>\n",
       "      <td>LapPercent_2</td>\n",
       "      <td>0.004888</td>\n",
       "    </tr>\n",
       "    <tr>\n",
       "      <th>2</th>\n",
       "      <td>PrevPosition1</td>\n",
       "      <td>0.000948</td>\n",
       "    </tr>\n",
       "    <tr>\n",
       "      <th>3</th>\n",
       "      <td>PrevPosition2</td>\n",
       "      <td>0.000976</td>\n",
       "    </tr>\n",
       "    <tr>\n",
       "      <th>4</th>\n",
       "      <td>PrevPosition3</td>\n",
       "      <td>0.003447</td>\n",
       "    </tr>\n",
       "    <tr>\n",
       "      <th>5</th>\n",
       "      <td>PrevLapPercent1</td>\n",
       "      <td>0.000867</td>\n",
       "    </tr>\n",
       "    <tr>\n",
       "      <th>6</th>\n",
       "      <td>PrevLapPercent2</td>\n",
       "      <td>0.000393</td>\n",
       "    </tr>\n",
       "    <tr>\n",
       "      <th>7</th>\n",
       "      <td>PrevLapPercent3</td>\n",
       "      <td>-0.000291</td>\n",
       "    </tr>\n",
       "  </tbody>\n",
       "</table>\n",
       "</div>"
      ],
      "text/plain": [
       "                 0         0\n",
       "0     LapPercent_1  0.002037\n",
       "1     LapPercent_2  0.004888\n",
       "2    PrevPosition1  0.000948\n",
       "3    PrevPosition2  0.000976\n",
       "4    PrevPosition3  0.003447\n",
       "5  PrevLapPercent1  0.000867\n",
       "6  PrevLapPercent2  0.000393\n",
       "7  PrevLapPercent3 -0.000291"
      ]
     },
     "execution_count": 43,
     "metadata": {},
     "output_type": "execute_result"
    }
   ],
   "source": [
    "pd.concat([pd.DataFrame(train_X_norm.columns),pd.DataFrame(np.transpose(model.coef_))], axis = 1)\n"
   ]
  },
  {
   "cell_type": "code",
   "execution_count": 44,
   "metadata": {},
   "outputs": [],
   "source": [
    "test_X = test_data[X_cols]\n",
    "test_y = test_data['LapPercent']"
   ]
  },
  {
   "cell_type": "code",
   "execution_count": 45,
   "metadata": {},
   "outputs": [],
   "source": [
    "test_X = (test_X - train_X.mean()) / train_X.std()"
   ]
  },
  {
   "cell_type": "code",
   "execution_count": 46,
   "metadata": {},
   "outputs": [],
   "source": [
    "pred = model.predict(test_X)"
   ]
  },
  {
   "cell_type": "code",
   "execution_count": 47,
   "metadata": {},
   "outputs": [
    {
     "data": {
      "text/plain": [
       "-393744.2547375366"
      ]
     },
     "execution_count": 47,
     "metadata": {},
     "output_type": "execute_result"
    }
   ],
   "source": [
    "r2_score(train_data['LapPercent'], train_data['PrevPosition1'])"
   ]
  },
  {
   "cell_type": "code",
   "execution_count": 48,
   "metadata": {},
   "outputs": [],
   "source": [
    "results = pd.DataFrame({'pred': pred, 'actual': test_y})"
   ]
  },
  {
   "cell_type": "code",
   "execution_count": 49,
   "metadata": {},
   "outputs": [
    {
     "data": {
      "text/html": [
       "<div>\n",
       "<style scoped>\n",
       "    .dataframe tbody tr th:only-of-type {\n",
       "        vertical-align: middle;\n",
       "    }\n",
       "\n",
       "    .dataframe tbody tr th {\n",
       "        vertical-align: top;\n",
       "    }\n",
       "\n",
       "    .dataframe thead th {\n",
       "        text-align: right;\n",
       "    }\n",
       "</style>\n",
       "<table border=\"1\" class=\"dataframe\">\n",
       "  <thead>\n",
       "    <tr style=\"text-align: right;\">\n",
       "      <th></th>\n",
       "      <th>pred</th>\n",
       "      <th>actual</th>\n",
       "    </tr>\n",
       "  </thead>\n",
       "  <tbody>\n",
       "    <tr>\n",
       "      <th>1704</th>\n",
       "      <td>0.016232</td>\n",
       "      <td>0.007233</td>\n",
       "    </tr>\n",
       "    <tr>\n",
       "      <th>1705</th>\n",
       "      <td>0.047016</td>\n",
       "      <td>0.043388</td>\n",
       "    </tr>\n",
       "    <tr>\n",
       "      <th>1706</th>\n",
       "      <td>0.029611</td>\n",
       "      <td>0.030566</td>\n",
       "    </tr>\n",
       "    <tr>\n",
       "      <th>1707</th>\n",
       "      <td>0.041610</td>\n",
       "      <td>0.027883</td>\n",
       "    </tr>\n",
       "    <tr>\n",
       "      <th>1709</th>\n",
       "      <td>0.030003</td>\n",
       "      <td>0.016766</td>\n",
       "    </tr>\n",
       "    <tr>\n",
       "      <th>...</th>\n",
       "      <td>...</td>\n",
       "      <td>...</td>\n",
       "    </tr>\n",
       "    <tr>\n",
       "      <th>2049</th>\n",
       "      <td>0.034247</td>\n",
       "      <td>0.058647</td>\n",
       "    </tr>\n",
       "    <tr>\n",
       "      <th>2050</th>\n",
       "      <td>0.040096</td>\n",
       "      <td>0.020070</td>\n",
       "    </tr>\n",
       "    <tr>\n",
       "      <th>2052</th>\n",
       "      <td>0.018123</td>\n",
       "      <td>0.014366</td>\n",
       "    </tr>\n",
       "    <tr>\n",
       "      <th>2053</th>\n",
       "      <td>0.015492</td>\n",
       "      <td>0.039327</td>\n",
       "    </tr>\n",
       "    <tr>\n",
       "      <th>2054</th>\n",
       "      <td>0.025733</td>\n",
       "      <td>0.011864</td>\n",
       "    </tr>\n",
       "  </tbody>\n",
       "</table>\n",
       "<p>300 rows × 2 columns</p>\n",
       "</div>"
      ],
      "text/plain": [
       "          pred    actual\n",
       "1704  0.016232  0.007233\n",
       "1705  0.047016  0.043388\n",
       "1706  0.029611  0.030566\n",
       "1707  0.041610  0.027883\n",
       "1709  0.030003  0.016766\n",
       "...        ...       ...\n",
       "2049  0.034247  0.058647\n",
       "2050  0.040096  0.020070\n",
       "2052  0.018123  0.014366\n",
       "2053  0.015492  0.039327\n",
       "2054  0.025733  0.011864\n",
       "\n",
       "[300 rows x 2 columns]"
      ]
     },
     "execution_count": 49,
     "metadata": {},
     "output_type": "execute_result"
    }
   ],
   "source": [
    "results"
   ]
  },
  {
   "cell_type": "code",
   "execution_count": 50,
   "metadata": {},
   "outputs": [
    {
     "data": {
      "text/html": [
       "<div>\n",
       "<style scoped>\n",
       "    .dataframe tbody tr th:only-of-type {\n",
       "        vertical-align: middle;\n",
       "    }\n",
       "\n",
       "    .dataframe tbody tr th {\n",
       "        vertical-align: top;\n",
       "    }\n",
       "\n",
       "    .dataframe thead th {\n",
       "        text-align: right;\n",
       "    }\n",
       "</style>\n",
       "<table border=\"1\" class=\"dataframe\">\n",
       "  <thead>\n",
       "    <tr style=\"text-align: right;\">\n",
       "      <th></th>\n",
       "      <th>pred</th>\n",
       "      <th>actual</th>\n",
       "    </tr>\n",
       "  </thead>\n",
       "  <tbody>\n",
       "    <tr>\n",
       "      <th>count</th>\n",
       "      <td>300.000000</td>\n",
       "      <td>300.000000</td>\n",
       "    </tr>\n",
       "    <tr>\n",
       "      <th>mean</th>\n",
       "      <td>0.020329</td>\n",
       "      <td>0.018256</td>\n",
       "    </tr>\n",
       "    <tr>\n",
       "      <th>std</th>\n",
       "      <td>0.010379</td>\n",
       "      <td>0.028250</td>\n",
       "    </tr>\n",
       "    <tr>\n",
       "      <th>min</th>\n",
       "      <td>0.000135</td>\n",
       "      <td>0.000000</td>\n",
       "    </tr>\n",
       "    <tr>\n",
       "      <th>25%</th>\n",
       "      <td>0.011793</td>\n",
       "      <td>0.007552</td>\n",
       "    </tr>\n",
       "    <tr>\n",
       "      <th>50%</th>\n",
       "      <td>0.020891</td>\n",
       "      <td>0.015483</td>\n",
       "    </tr>\n",
       "    <tr>\n",
       "      <th>75%</th>\n",
       "      <td>0.027268</td>\n",
       "      <td>0.023614</td>\n",
       "    </tr>\n",
       "    <tr>\n",
       "      <th>max</th>\n",
       "      <td>0.047016</td>\n",
       "      <td>0.455956</td>\n",
       "    </tr>\n",
       "  </tbody>\n",
       "</table>\n",
       "</div>"
      ],
      "text/plain": [
       "             pred      actual\n",
       "count  300.000000  300.000000\n",
       "mean     0.020329    0.018256\n",
       "std      0.010379    0.028250\n",
       "min      0.000135    0.000000\n",
       "25%      0.011793    0.007552\n",
       "50%      0.020891    0.015483\n",
       "75%      0.027268    0.023614\n",
       "max      0.047016    0.455956"
      ]
     },
     "execution_count": 50,
     "metadata": {},
     "output_type": "execute_result"
    }
   ],
   "source": [
    "results.describe()"
   ]
  },
  {
   "cell_type": "code",
   "execution_count": 51,
   "metadata": {},
   "outputs": [
    {
     "data": {
      "text/plain": [
       "0.0007133550172953425"
      ]
     },
     "execution_count": 51,
     "metadata": {},
     "output_type": "execute_result"
    }
   ],
   "source": [
    "mean_squared_error(results['pred'], results['actual'])"
   ]
  },
  {
   "cell_type": "code",
   "execution_count": 52,
   "metadata": {},
   "outputs": [
    {
     "data": {
      "text/plain": [
       "['model.pkl']"
      ]
     },
     "execution_count": 52,
     "metadata": {},
     "output_type": "execute_result"
    }
   ],
   "source": [
    "joblib.dump(model, 'model.pkl')"
   ]
  },
  {
   "cell_type": "code",
   "execution_count": null,
   "metadata": {},
   "outputs": [],
   "source": []
  }
 ],
 "metadata": {
  "kernelspec": {
   "display_name": "base",
   "language": "python",
   "name": "python3"
  },
  "language_info": {
   "codemirror_mode": {
    "name": "ipython",
    "version": 3
   },
   "file_extension": ".py",
   "mimetype": "text/x-python",
   "name": "python",
   "nbconvert_exporter": "python",
   "pygments_lexer": "ipython3",
   "version": "3.8.5"
  },
  "orig_nbformat": 4
 },
 "nbformat": 4,
 "nbformat_minor": 2
}
