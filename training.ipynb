{
 "cells": [
  {
   "cell_type": "code",
   "execution_count": 1,
   "metadata": {},
   "outputs": [],
   "source": [
    "import pandas as pd\n",
    "import numpy as np\n",
    "from sklearn import linear_model\n",
    "import joblib\n",
    "import numpy as np\n",
    "from sklearn.metrics import mean_squared_error\n",
    "from sklearn.metrics import mean_absolute_error\n",
    "from sklearn.metrics import r2_score\n",
    "from sklearn.model_selection import GridSearchCV\n",
    "from sklearn import tree"
   ]
  },
  {
   "cell_type": "code",
   "execution_count": 2,
   "metadata": {},
   "outputs": [],
   "source": [
    "data = pd.read_pickle('train_data.pkl')"
   ]
  },
  {
   "cell_type": "code",
   "execution_count": 3,
   "metadata": {},
   "outputs": [
    {
     "data": {
      "text/plain": [
       "Index(['DriverNumber', 'Team', 'Driver', 'LapTime_1', 'Sector1Time_1',\n",
       "       'Sector2Time_1', 'Sector3Time_1', 'TyreLife_1', 'SpeedI1_1',\n",
       "       'SpeedI2_1', 'SpeedFL_1', 'LapTimePercent_1', 'Sector1TimePercent_1',\n",
       "       'Sector2TimePercent_1', 'Sector3TimePercent_1', 'TyreLifePercent_1',\n",
       "       'SpeedI1Percent_1', 'SpeedI2Percent_1', 'SpeedFLPercent_1',\n",
       "       'LapTime_1_1', 'Sector1Time_1_1', 'Sector2Time_1_1', 'Sector3Time_1_1',\n",
       "       'TyreLife_1_1', 'SpeedI1_1_1', 'SpeedI2_1_1', 'SpeedFL_1_1',\n",
       "       'LapTimePercent_1_1', 'Sector1TimePercent_1_1',\n",
       "       'Sector2TimePercent_1_1', 'Sector3TimePercent_1_1',\n",
       "       'TyreLifePercent_1_1', 'SpeedI1Percent_1_1', 'SpeedI2Percent_1_1',\n",
       "       'SpeedFLPercent_1_1', 'LapTime_2', 'Sector1Time_2', 'Sector2Time_2',\n",
       "       'Sector3Time_2', 'TyreLife_2', 'SpeedI1_2', 'SpeedI2_2', 'SpeedFL_2',\n",
       "       'LapTimePercent_2', 'Sector1TimePercent_2', 'Sector2TimePercent_2',\n",
       "       'Sector3TimePercent_2', 'TyreLifePercent_2', 'SpeedI1Percent_2',\n",
       "       'SpeedI2Percent_2', 'SpeedFLPercent_2', 'LapTime_1_2',\n",
       "       'Sector1Time_1_2', 'Sector2Time_1_2', 'Sector3Time_1_2', 'TyreLife_1_2',\n",
       "       'SpeedI1_1_2', 'SpeedI2_1_2', 'SpeedFL_1_2', 'LapTimePercent_1_2',\n",
       "       'Sector1TimePercent_1_2', 'Sector2TimePercent_1_2',\n",
       "       'Sector3TimePercent_1_2', 'TyreLifePercent_1_2', 'SpeedI1Percent_1_2',\n",
       "       'SpeedI2Percent_1_2', 'SpeedFLPercent_1_2', 'Position',\n",
       "       'LapTimePercent', 'RoundNumber', 'Country', 'Location',\n",
       "       'OfficialEventName', 'EventDate', 'EventName', 'EventFormat',\n",
       "       'PrevLapTimePercent1', 'PositionPrevTeam1', 'LapTimePercentPrevTeam1',\n",
       "       'PrevLapTimePercent2', 'PositionPrevTeam2', 'LapTimePercentPrevTeam2',\n",
       "       'PrevLapTimePercent3', 'PositionPrevTeam3', 'LapTimePercentPrevTeam3',\n",
       "       'PrevLapTimePercent4', 'PositionPrevTeam4', 'LapTimePercentPrevTeam4',\n",
       "       'PrevLapTimePercent5', 'PositionPrevTeam5', 'LapTimePercentPrevTeam5',\n",
       "       'LapTimePrevPercentTeamAverage'],\n",
       "      dtype='object')"
      ]
     },
     "execution_count": 3,
     "metadata": {},
     "output_type": "execute_result"
    }
   ],
   "source": [
    "data.columns"
   ]
  },
  {
   "cell_type": "code",
   "execution_count": 4,
   "metadata": {},
   "outputs": [],
   "source": [
    "train_data = data[data['EventDate'] <= np.datetime64('2022-06-30')]\n",
    "test_data = data[data['EventDate'] > np.datetime64('2022-06-30')]"
   ]
  },
  {
   "cell_type": "code",
   "execution_count": 5,
   "metadata": {},
   "outputs": [],
   "source": [
    "# train_data = train_data.dropna()\n",
    "# train_data = train_data.fillna(train_data.mean())\n",
    "# test_data = test_data.fillna(test_data.mean())"
   ]
  },
  {
   "cell_type": "code",
   "execution_count": 6,
   "metadata": {},
   "outputs": [
    {
     "data": {
      "text/plain": [
       "Index(['DriverNumber', 'Team', 'Driver', 'LapTime_1', 'Sector1Time_1',\n",
       "       'Sector2Time_1', 'Sector3Time_1', 'TyreLife_1', 'SpeedI1_1',\n",
       "       'SpeedI2_1', 'SpeedFL_1', 'LapTimePercent_1', 'Sector1TimePercent_1',\n",
       "       'Sector2TimePercent_1', 'Sector3TimePercent_1', 'TyreLifePercent_1',\n",
       "       'SpeedI1Percent_1', 'SpeedI2Percent_1', 'SpeedFLPercent_1',\n",
       "       'LapTime_1_1', 'Sector1Time_1_1', 'Sector2Time_1_1', 'Sector3Time_1_1',\n",
       "       'TyreLife_1_1', 'SpeedI1_1_1', 'SpeedI2_1_1', 'SpeedFL_1_1',\n",
       "       'LapTimePercent_1_1', 'Sector1TimePercent_1_1',\n",
       "       'Sector2TimePercent_1_1', 'Sector3TimePercent_1_1',\n",
       "       'TyreLifePercent_1_1', 'SpeedI1Percent_1_1', 'SpeedI2Percent_1_1',\n",
       "       'SpeedFLPercent_1_1', 'LapTime_2', 'Sector1Time_2', 'Sector2Time_2',\n",
       "       'Sector3Time_2', 'TyreLife_2', 'SpeedI1_2', 'SpeedI2_2', 'SpeedFL_2',\n",
       "       'LapTimePercent_2', 'Sector1TimePercent_2', 'Sector2TimePercent_2',\n",
       "       'Sector3TimePercent_2', 'TyreLifePercent_2', 'SpeedI1Percent_2',\n",
       "       'SpeedI2Percent_2', 'SpeedFLPercent_2', 'LapTime_1_2',\n",
       "       'Sector1Time_1_2', 'Sector2Time_1_2', 'Sector3Time_1_2', 'TyreLife_1_2',\n",
       "       'SpeedI1_1_2', 'SpeedI2_1_2', 'SpeedFL_1_2', 'LapTimePercent_1_2',\n",
       "       'Sector1TimePercent_1_2', 'Sector2TimePercent_1_2',\n",
       "       'Sector3TimePercent_1_2', 'TyreLifePercent_1_2', 'SpeedI1Percent_1_2',\n",
       "       'SpeedI2Percent_1_2', 'SpeedFLPercent_1_2', 'Position',\n",
       "       'LapTimePercent', 'RoundNumber', 'Country', 'Location',\n",
       "       'OfficialEventName', 'EventDate', 'EventName', 'EventFormat',\n",
       "       'PrevLapTimePercent1', 'PositionPrevTeam1', 'LapTimePercentPrevTeam1',\n",
       "       'PrevLapTimePercent2', 'PositionPrevTeam2', 'LapTimePercentPrevTeam2',\n",
       "       'PrevLapTimePercent3', 'PositionPrevTeam3', 'LapTimePercentPrevTeam3',\n",
       "       'PrevLapTimePercent4', 'PositionPrevTeam4', 'LapTimePercentPrevTeam4',\n",
       "       'PrevLapTimePercent5', 'PositionPrevTeam5', 'LapTimePercentPrevTeam5',\n",
       "       'LapTimePrevPercentTeamAverage'],\n",
       "      dtype='object')"
      ]
     },
     "execution_count": 6,
     "metadata": {},
     "output_type": "execute_result"
    }
   ],
   "source": [
    "train_data.columns"
   ]
  },
  {
   "cell_type": "code",
   "execution_count": 7,
   "metadata": {},
   "outputs": [],
   "source": [
    "X_cols = ['LapTimePercent_1', 'LapTimePercent_2',\n",
    "       'PrevLapTimePercent1', \n",
    "       'PrevLapTimePercent2', \n",
    "       'PrevLapTimePercent3', \n",
    "       'LapTimePrevPercentTeamAverage']"
   ]
  },
  {
   "cell_type": "code",
   "execution_count": 8,
   "metadata": {},
   "outputs": [],
   "source": [
    "def fill_nan_with_group_mean(df, group_col):\n",
    "    numeric_columns = df.select_dtypes(include=np.number).columns\n",
    "    df_filled = df.copy()\n",
    "    \n",
    "    for col in numeric_columns:\n",
    "        grouped = df.groupby(group_col)\n",
    "        df_filled[col] = grouped[col].transform(lambda x: x.fillna(x.mean()))\n",
    "    \n",
    "    return df_filled\n",
    "\n",
    "train_data = fill_nan_with_group_mean(train_data, 'OfficialEventName').dropna()\n",
    "test_data = fill_nan_with_group_mean(test_data, 'OfficialEventName').dropna()"
   ]
  },
  {
   "cell_type": "code",
   "execution_count": 9,
   "metadata": {},
   "outputs": [],
   "source": [
    "for col in X_cols + ['LapTimePercent']:\n",
    "    percentiles = train_data[col].quantile([0, 0.95]).values\n",
    "    train_data.loc[train_data[col] >= percentiles[1], col] = percentiles[1]\n",
    "    test_data.loc[test_data[col] >= percentiles[1], col] = percentiles[1]"
   ]
  },
  {
   "cell_type": "code",
   "execution_count": 10,
   "metadata": {},
   "outputs": [],
   "source": [
    "train_X = train_data[X_cols]\n",
    "train_y = train_data['LapTimePercent']\n",
    "\n",
    "test_X = test_data[X_cols]\n",
    "test_y = test_data['LapTimePercent']"
   ]
  },
  {
   "cell_type": "code",
   "execution_count": 11,
   "metadata": {},
   "outputs": [
    {
     "data": {
      "text/html": [
       "<div>\n",
       "<style scoped>\n",
       "    .dataframe tbody tr th:only-of-type {\n",
       "        vertical-align: middle;\n",
       "    }\n",
       "\n",
       "    .dataframe tbody tr th {\n",
       "        vertical-align: top;\n",
       "    }\n",
       "\n",
       "    .dataframe thead th {\n",
       "        text-align: right;\n",
       "    }\n",
       "</style>\n",
       "<table border=\"1\" class=\"dataframe\">\n",
       "  <thead>\n",
       "    <tr style=\"text-align: right;\">\n",
       "      <th></th>\n",
       "      <th>LapTimePercent_1</th>\n",
       "      <th>LapTimePercent_2</th>\n",
       "      <th>PrevLapTimePercent1</th>\n",
       "      <th>PrevLapTimePercent2</th>\n",
       "      <th>PrevLapTimePercent3</th>\n",
       "      <th>LapTimePrevPercentTeamAverage</th>\n",
       "    </tr>\n",
       "  </thead>\n",
       "  <tbody>\n",
       "    <tr>\n",
       "      <th>count</th>\n",
       "      <td>1555.000000</td>\n",
       "      <td>1555.000000</td>\n",
       "      <td>1555.000000</td>\n",
       "      <td>1555.000000</td>\n",
       "      <td>1555.000000</td>\n",
       "      <td>1555.000000</td>\n",
       "    </tr>\n",
       "    <tr>\n",
       "      <th>mean</th>\n",
       "      <td>0.018956</td>\n",
       "      <td>0.016683</td>\n",
       "      <td>0.019170</td>\n",
       "      <td>0.019090</td>\n",
       "      <td>0.019013</td>\n",
       "      <td>0.097428</td>\n",
       "    </tr>\n",
       "    <tr>\n",
       "      <th>std</th>\n",
       "      <td>0.011751</td>\n",
       "      <td>0.010252</td>\n",
       "      <td>0.012041</td>\n",
       "      <td>0.011931</td>\n",
       "      <td>0.011812</td>\n",
       "      <td>0.053115</td>\n",
       "    </tr>\n",
       "    <tr>\n",
       "      <th>min</th>\n",
       "      <td>0.000000</td>\n",
       "      <td>0.000000</td>\n",
       "      <td>0.000000</td>\n",
       "      <td>0.000000</td>\n",
       "      <td>0.000000</td>\n",
       "      <td>0.004088</td>\n",
       "    </tr>\n",
       "    <tr>\n",
       "      <th>25%</th>\n",
       "      <td>0.009952</td>\n",
       "      <td>0.008894</td>\n",
       "      <td>0.010011</td>\n",
       "      <td>0.010063</td>\n",
       "      <td>0.010076</td>\n",
       "      <td>0.056417</td>\n",
       "    </tr>\n",
       "    <tr>\n",
       "      <th>50%</th>\n",
       "      <td>0.018491</td>\n",
       "      <td>0.016146</td>\n",
       "      <td>0.018439</td>\n",
       "      <td>0.018359</td>\n",
       "      <td>0.018338</td>\n",
       "      <td>0.098589</td>\n",
       "    </tr>\n",
       "    <tr>\n",
       "      <th>75%</th>\n",
       "      <td>0.026475</td>\n",
       "      <td>0.023545</td>\n",
       "      <td>0.027626</td>\n",
       "      <td>0.027430</td>\n",
       "      <td>0.027240</td>\n",
       "      <td>0.135253</td>\n",
       "    </tr>\n",
       "    <tr>\n",
       "      <th>max</th>\n",
       "      <td>0.043190</td>\n",
       "      <td>0.037561</td>\n",
       "      <td>0.042465</td>\n",
       "      <td>0.041973</td>\n",
       "      <td>0.041579</td>\n",
       "      <td>0.196529</td>\n",
       "    </tr>\n",
       "  </tbody>\n",
       "</table>\n",
       "</div>"
      ],
      "text/plain": [
       "       LapTimePercent_1  LapTimePercent_2  PrevLapTimePercent1  \\\n",
       "count       1555.000000       1555.000000          1555.000000   \n",
       "mean           0.018956          0.016683             0.019170   \n",
       "std            0.011751          0.010252             0.012041   \n",
       "min            0.000000          0.000000             0.000000   \n",
       "25%            0.009952          0.008894             0.010011   \n",
       "50%            0.018491          0.016146             0.018439   \n",
       "75%            0.026475          0.023545             0.027626   \n",
       "max            0.043190          0.037561             0.042465   \n",
       "\n",
       "       PrevLapTimePercent2  PrevLapTimePercent3  LapTimePrevPercentTeamAverage  \n",
       "count          1555.000000          1555.000000                    1555.000000  \n",
       "mean              0.019090             0.019013                       0.097428  \n",
       "std               0.011931             0.011812                       0.053115  \n",
       "min               0.000000             0.000000                       0.004088  \n",
       "25%               0.010063             0.010076                       0.056417  \n",
       "50%               0.018359             0.018338                       0.098589  \n",
       "75%               0.027430             0.027240                       0.135253  \n",
       "max               0.041973             0.041579                       0.196529  "
      ]
     },
     "execution_count": 11,
     "metadata": {},
     "output_type": "execute_result"
    }
   ],
   "source": [
    "train_X.describe()"
   ]
  },
  {
   "cell_type": "code",
   "execution_count": 12,
   "metadata": {},
   "outputs": [
    {
     "data": {
      "text/plain": [
       "count    1555.000000\n",
       "mean        0.019745\n",
       "std         0.012633\n",
       "min         0.000000\n",
       "25%         0.010110\n",
       "50%         0.018789\n",
       "75%         0.028237\n",
       "max         0.045483\n",
       "Name: LapTimePercent, dtype: float64"
      ]
     },
     "execution_count": 12,
     "metadata": {},
     "output_type": "execute_result"
    }
   ],
   "source": [
    "train_y.describe()"
   ]
  },
  {
   "cell_type": "code",
   "execution_count": 13,
   "metadata": {},
   "outputs": [],
   "source": [
    "train_X.to_pickle('train_X.pkl')"
   ]
  },
  {
   "cell_type": "code",
   "execution_count": 34,
   "metadata": {},
   "outputs": [
    {
     "data": {
      "text/plain": [
       "GridSearchCV(estimator=Lasso(),\n",
       "             param_grid={'alpha': [1e-08, 1e-07, 1e-06, 1e-05, 0.0001, 0.001,\n",
       "                                   0.01, 0.1, 1],\n",
       "                         'max_iter': [100000]})"
      ]
     },
     "execution_count": 34,
     "metadata": {},
     "output_type": "execute_result"
    }
   ],
   "source": [
    "base_model = linear_model.Lasso()\n",
    "params = {'alpha': [0.00000001, 0.0000001, 0.000001, 0.00001, 0.0001, 0.001, 0.01, 0.1, 1], 'max_iter':[100000]}\n",
    "# model = linear_model.LinearRegression()\n",
    "\n",
    "# base_model = tree.DecisionTreeRegressor()\n",
    "# params = {'max_depth': [2, 3, 4, 5, 6, 7, 8, 9, 10]}\n",
    "\n",
    "model = GridSearchCV(base_model, param_grid = params)\n",
    "model.fit(train_X, train_y)"
   ]
  },
  {
   "cell_type": "code",
   "execution_count": 35,
   "metadata": {},
   "outputs": [
    {
     "data": {
      "text/plain": [
       "{'alpha': 1e-07, 'max_iter': 100000}"
      ]
     },
     "execution_count": 35,
     "metadata": {},
     "output_type": "execute_result"
    }
   ],
   "source": [
    "model.best_params_"
   ]
  },
  {
   "cell_type": "code",
   "execution_count": 36,
   "metadata": {},
   "outputs": [
    {
     "data": {
      "text/html": [
       "<div>\n",
       "<style scoped>\n",
       "    .dataframe tbody tr th:only-of-type {\n",
       "        vertical-align: middle;\n",
       "    }\n",
       "\n",
       "    .dataframe tbody tr th {\n",
       "        vertical-align: top;\n",
       "    }\n",
       "\n",
       "    .dataframe thead th {\n",
       "        text-align: right;\n",
       "    }\n",
       "</style>\n",
       "<table border=\"1\" class=\"dataframe\">\n",
       "  <thead>\n",
       "    <tr style=\"text-align: right;\">\n",
       "      <th></th>\n",
       "      <th>0</th>\n",
       "      <th>0</th>\n",
       "    </tr>\n",
       "  </thead>\n",
       "  <tbody>\n",
       "    <tr>\n",
       "      <th>0</th>\n",
       "      <td>LapTimePercent_1</td>\n",
       "      <td>0.132349</td>\n",
       "    </tr>\n",
       "    <tr>\n",
       "      <th>1</th>\n",
       "      <td>LapTimePercent_2</td>\n",
       "      <td>0.352418</td>\n",
       "    </tr>\n",
       "    <tr>\n",
       "      <th>2</th>\n",
       "      <td>PrevLapTimePercent1</td>\n",
       "      <td>0.129102</td>\n",
       "    </tr>\n",
       "    <tr>\n",
       "      <th>3</th>\n",
       "      <td>PrevLapTimePercent2</td>\n",
       "      <td>0.047613</td>\n",
       "    </tr>\n",
       "    <tr>\n",
       "      <th>4</th>\n",
       "      <td>PrevLapTimePercent3</td>\n",
       "      <td>0.097694</td>\n",
       "    </tr>\n",
       "    <tr>\n",
       "      <th>5</th>\n",
       "      <td>LapTimePrevPercentTeamAverage</td>\n",
       "      <td>0.057109</td>\n",
       "    </tr>\n",
       "  </tbody>\n",
       "</table>\n",
       "</div>"
      ],
      "text/plain": [
       "                               0         0\n",
       "0               LapTimePercent_1  0.132349\n",
       "1               LapTimePercent_2  0.352418\n",
       "2            PrevLapTimePercent1  0.129102\n",
       "3            PrevLapTimePercent2  0.047613\n",
       "4            PrevLapTimePercent3  0.097694\n",
       "5  LapTimePrevPercentTeamAverage  0.057109"
      ]
     },
     "execution_count": 36,
     "metadata": {},
     "output_type": "execute_result"
    }
   ],
   "source": [
    "pd.concat([pd.DataFrame(train_X.columns),pd.DataFrame(np.transpose(model.best_estimator_.coef_))], axis = 1)\n"
   ]
  },
  {
   "cell_type": "code",
   "execution_count": 17,
   "metadata": {},
   "outputs": [],
   "source": [
    "test_X = test_data[X_cols]\n",
    "test_y = test_data['LapTimePercent']"
   ]
  },
  {
   "cell_type": "code",
   "execution_count": 18,
   "metadata": {},
   "outputs": [],
   "source": [
    "pred = model.predict(test_X)"
   ]
  },
  {
   "cell_type": "code",
   "execution_count": 19,
   "metadata": {},
   "outputs": [],
   "source": [
    "results = pd.DataFrame({'Pred': pred, 'Actual': test_y, 'Actual_Position': test_data['Position'], 'Race': test_data['OfficialEventName'], 'Driver': test_data['DriverNumber']})"
   ]
  },
  {
   "cell_type": "code",
   "execution_count": 20,
   "metadata": {},
   "outputs": [
    {
     "data": {
      "text/html": [
       "<div>\n",
       "<style scoped>\n",
       "    .dataframe tbody tr th:only-of-type {\n",
       "        vertical-align: middle;\n",
       "    }\n",
       "\n",
       "    .dataframe tbody tr th {\n",
       "        vertical-align: top;\n",
       "    }\n",
       "\n",
       "    .dataframe thead th {\n",
       "        text-align: right;\n",
       "    }\n",
       "</style>\n",
       "<table border=\"1\" class=\"dataframe\">\n",
       "  <thead>\n",
       "    <tr style=\"text-align: right;\">\n",
       "      <th></th>\n",
       "      <th>Pred</th>\n",
       "      <th>Actual</th>\n",
       "      <th>Actual_Position</th>\n",
       "      <th>Race</th>\n",
       "      <th>Driver</th>\n",
       "    </tr>\n",
       "  </thead>\n",
       "  <tbody>\n",
       "    <tr>\n",
       "      <th>1675</th>\n",
       "      <td>0.009902</td>\n",
       "      <td>0.000000</td>\n",
       "      <td>2.0</td>\n",
       "      <td>FORMULA 1 LENOVO BRITISH GRAND PRIX 2022</td>\n",
       "      <td>1</td>\n",
       "    </tr>\n",
       "    <tr>\n",
       "      <th>1676</th>\n",
       "      <td>0.015253</td>\n",
       "      <td>0.014042</td>\n",
       "      <td>4.0</td>\n",
       "      <td>FORMULA 1 LENOVO BRITISH GRAND PRIX 2022</td>\n",
       "      <td>11</td>\n",
       "    </tr>\n",
       "    <tr>\n",
       "      <th>1677</th>\n",
       "      <td>0.028759</td>\n",
       "      <td>0.025734</td>\n",
       "      <td>11.0</td>\n",
       "      <td>FORMULA 1 LENOVO BRITISH GRAND PRIX 2022</td>\n",
       "      <td>10</td>\n",
       "    </tr>\n",
       "    <tr>\n",
       "      <th>1678</th>\n",
       "      <td>0.026665</td>\n",
       "      <td>0.027883</td>\n",
       "      <td>13.0</td>\n",
       "      <td>FORMULA 1 LENOVO BRITISH GRAND PRIX 2022</td>\n",
       "      <td>22</td>\n",
       "    </tr>\n",
       "    <tr>\n",
       "      <th>1679</th>\n",
       "      <td>0.017670</td>\n",
       "      <td>0.024907</td>\n",
       "      <td>7.0</td>\n",
       "      <td>FORMULA 1 LENOVO BRITISH GRAND PRIX 2022</td>\n",
       "      <td>14</td>\n",
       "    </tr>\n",
       "    <tr>\n",
       "      <th>...</th>\n",
       "      <td>...</td>\n",
       "      <td>...</td>\n",
       "      <td>...</td>\n",
       "      <td>...</td>\n",
       "      <td>...</td>\n",
       "    </tr>\n",
       "    <tr>\n",
       "      <th>2069</th>\n",
       "      <td>0.021963</td>\n",
       "      <td>0.005548</td>\n",
       "      <td>7.0</td>\n",
       "      <td>FORMULA 1 QATAR AIRWAYS HUNGARIAN GRAND PRIX 2023</td>\n",
       "      <td>77</td>\n",
       "    </tr>\n",
       "    <tr>\n",
       "      <th>2070</th>\n",
       "      <td>0.007134</td>\n",
       "      <td>0.001110</td>\n",
       "      <td>3.0</td>\n",
       "      <td>FORMULA 1 QATAR AIRWAYS HUNGARIAN GRAND PRIX 2023</td>\n",
       "      <td>4</td>\n",
       "    </tr>\n",
       "    <tr>\n",
       "      <th>2071</th>\n",
       "      <td>0.012820</td>\n",
       "      <td>0.003864</td>\n",
       "      <td>4.0</td>\n",
       "      <td>FORMULA 1 QATAR AIRWAYS HUNGARIAN GRAND PRIX 2023</td>\n",
       "      <td>81</td>\n",
       "    </tr>\n",
       "    <tr>\n",
       "      <th>2072</th>\n",
       "      <td>0.016655</td>\n",
       "      <td>0.000000</td>\n",
       "      <td>1.0</td>\n",
       "      <td>FORMULA 1 QATAR AIRWAYS HUNGARIAN GRAND PRIX 2023</td>\n",
       "      <td>44</td>\n",
       "    </tr>\n",
       "    <tr>\n",
       "      <th>2073</th>\n",
       "      <td>0.013290</td>\n",
       "      <td>0.031563</td>\n",
       "      <td>18.0</td>\n",
       "      <td>FORMULA 1 QATAR AIRWAYS HUNGARIAN GRAND PRIX 2023</td>\n",
       "      <td>63</td>\n",
       "    </tr>\n",
       "  </tbody>\n",
       "</table>\n",
       "<p>399 rows × 5 columns</p>\n",
       "</div>"
      ],
      "text/plain": [
       "          Pred    Actual  Actual_Position  \\\n",
       "1675  0.009902  0.000000              2.0   \n",
       "1676  0.015253  0.014042              4.0   \n",
       "1677  0.028759  0.025734             11.0   \n",
       "1678  0.026665  0.027883             13.0   \n",
       "1679  0.017670  0.024907              7.0   \n",
       "...        ...       ...              ...   \n",
       "2069  0.021963  0.005548              7.0   \n",
       "2070  0.007134  0.001110              3.0   \n",
       "2071  0.012820  0.003864              4.0   \n",
       "2072  0.016655  0.000000              1.0   \n",
       "2073  0.013290  0.031563             18.0   \n",
       "\n",
       "                                                   Race Driver  \n",
       "1675           FORMULA 1 LENOVO BRITISH GRAND PRIX 2022      1  \n",
       "1676           FORMULA 1 LENOVO BRITISH GRAND PRIX 2022     11  \n",
       "1677           FORMULA 1 LENOVO BRITISH GRAND PRIX 2022     10  \n",
       "1678           FORMULA 1 LENOVO BRITISH GRAND PRIX 2022     22  \n",
       "1679           FORMULA 1 LENOVO BRITISH GRAND PRIX 2022     14  \n",
       "...                                                 ...    ...  \n",
       "2069  FORMULA 1 QATAR AIRWAYS HUNGARIAN GRAND PRIX 2023     77  \n",
       "2070  FORMULA 1 QATAR AIRWAYS HUNGARIAN GRAND PRIX 2023      4  \n",
       "2071  FORMULA 1 QATAR AIRWAYS HUNGARIAN GRAND PRIX 2023     81  \n",
       "2072  FORMULA 1 QATAR AIRWAYS HUNGARIAN GRAND PRIX 2023     44  \n",
       "2073  FORMULA 1 QATAR AIRWAYS HUNGARIAN GRAND PRIX 2023     63  \n",
       "\n",
       "[399 rows x 5 columns]"
      ]
     },
     "execution_count": 20,
     "metadata": {},
     "output_type": "execute_result"
    }
   ],
   "source": [
    "results"
   ]
  },
  {
   "cell_type": "code",
   "execution_count": 21,
   "metadata": {},
   "outputs": [],
   "source": [
    "results['Pred_Position'] = results.groupby('Race')['Pred'].rank(method = 'first')"
   ]
  },
  {
   "cell_type": "code",
   "execution_count": 22,
   "metadata": {},
   "outputs": [
    {
     "data": {
      "text/html": [
       "<div>\n",
       "<style scoped>\n",
       "    .dataframe tbody tr th:only-of-type {\n",
       "        vertical-align: middle;\n",
       "    }\n",
       "\n",
       "    .dataframe tbody tr th {\n",
       "        vertical-align: top;\n",
       "    }\n",
       "\n",
       "    .dataframe thead th {\n",
       "        text-align: right;\n",
       "    }\n",
       "</style>\n",
       "<table border=\"1\" class=\"dataframe\">\n",
       "  <thead>\n",
       "    <tr style=\"text-align: right;\">\n",
       "      <th></th>\n",
       "      <th>Pred_Position</th>\n",
       "      <th>Actual_Position</th>\n",
       "    </tr>\n",
       "  </thead>\n",
       "  <tbody>\n",
       "    <tr>\n",
       "      <th>count</th>\n",
       "      <td>399.000000</td>\n",
       "      <td>399.000000</td>\n",
       "    </tr>\n",
       "    <tr>\n",
       "      <th>mean</th>\n",
       "      <td>10.476190</td>\n",
       "      <td>10.493734</td>\n",
       "    </tr>\n",
       "    <tr>\n",
       "      <th>std</th>\n",
       "      <td>5.761055</td>\n",
       "      <td>5.779389</td>\n",
       "    </tr>\n",
       "    <tr>\n",
       "      <th>min</th>\n",
       "      <td>1.000000</td>\n",
       "      <td>1.000000</td>\n",
       "    </tr>\n",
       "    <tr>\n",
       "      <th>25%</th>\n",
       "      <td>5.500000</td>\n",
       "      <td>5.500000</td>\n",
       "    </tr>\n",
       "    <tr>\n",
       "      <th>50%</th>\n",
       "      <td>10.000000</td>\n",
       "      <td>10.000000</td>\n",
       "    </tr>\n",
       "    <tr>\n",
       "      <th>75%</th>\n",
       "      <td>15.000000</td>\n",
       "      <td>15.500000</td>\n",
       "    </tr>\n",
       "    <tr>\n",
       "      <th>max</th>\n",
       "      <td>20.000000</td>\n",
       "      <td>20.000000</td>\n",
       "    </tr>\n",
       "  </tbody>\n",
       "</table>\n",
       "</div>"
      ],
      "text/plain": [
       "       Pred_Position  Actual_Position\n",
       "count     399.000000       399.000000\n",
       "mean       10.476190        10.493734\n",
       "std         5.761055         5.779389\n",
       "min         1.000000         1.000000\n",
       "25%         5.500000         5.500000\n",
       "50%        10.000000        10.000000\n",
       "75%        15.000000        15.500000\n",
       "max        20.000000        20.000000"
      ]
     },
     "execution_count": 22,
     "metadata": {},
     "output_type": "execute_result"
    }
   ],
   "source": [
    "results[['Pred_Position', 'Actual_Position']].describe()"
   ]
  },
  {
   "cell_type": "code",
   "execution_count": 23,
   "metadata": {},
   "outputs": [
    {
     "data": {
      "text/html": [
       "<div>\n",
       "<style scoped>\n",
       "    .dataframe tbody tr th:only-of-type {\n",
       "        vertical-align: middle;\n",
       "    }\n",
       "\n",
       "    .dataframe tbody tr th {\n",
       "        vertical-align: top;\n",
       "    }\n",
       "\n",
       "    .dataframe thead th {\n",
       "        text-align: right;\n",
       "    }\n",
       "</style>\n",
       "<table border=\"1\" class=\"dataframe\">\n",
       "  <thead>\n",
       "    <tr style=\"text-align: right;\">\n",
       "      <th></th>\n",
       "      <th>Pred_Position</th>\n",
       "      <th>Actual_Position</th>\n",
       "    </tr>\n",
       "  </thead>\n",
       "  <tbody>\n",
       "    <tr>\n",
       "      <th>1675</th>\n",
       "      <td>3.0</td>\n",
       "      <td>2.0</td>\n",
       "    </tr>\n",
       "    <tr>\n",
       "      <th>1676</th>\n",
       "      <td>5.0</td>\n",
       "      <td>4.0</td>\n",
       "    </tr>\n",
       "    <tr>\n",
       "      <th>1677</th>\n",
       "      <td>16.0</td>\n",
       "      <td>11.0</td>\n",
       "    </tr>\n",
       "    <tr>\n",
       "      <th>1678</th>\n",
       "      <td>15.0</td>\n",
       "      <td>13.0</td>\n",
       "    </tr>\n",
       "    <tr>\n",
       "      <th>1679</th>\n",
       "      <td>7.0</td>\n",
       "      <td>7.0</td>\n",
       "    </tr>\n",
       "    <tr>\n",
       "      <th>...</th>\n",
       "      <td>...</td>\n",
       "      <td>...</td>\n",
       "    </tr>\n",
       "    <tr>\n",
       "      <th>2069</th>\n",
       "      <td>14.0</td>\n",
       "      <td>7.0</td>\n",
       "    </tr>\n",
       "    <tr>\n",
       "      <th>2070</th>\n",
       "      <td>1.0</td>\n",
       "      <td>3.0</td>\n",
       "    </tr>\n",
       "    <tr>\n",
       "      <th>2071</th>\n",
       "      <td>5.0</td>\n",
       "      <td>4.0</td>\n",
       "    </tr>\n",
       "    <tr>\n",
       "      <th>2072</th>\n",
       "      <td>10.0</td>\n",
       "      <td>1.0</td>\n",
       "    </tr>\n",
       "    <tr>\n",
       "      <th>2073</th>\n",
       "      <td>7.0</td>\n",
       "      <td>18.0</td>\n",
       "    </tr>\n",
       "  </tbody>\n",
       "</table>\n",
       "<p>399 rows × 2 columns</p>\n",
       "</div>"
      ],
      "text/plain": [
       "      Pred_Position  Actual_Position\n",
       "1675            3.0              2.0\n",
       "1676            5.0              4.0\n",
       "1677           16.0             11.0\n",
       "1678           15.0             13.0\n",
       "1679            7.0              7.0\n",
       "...             ...              ...\n",
       "2069           14.0              7.0\n",
       "2070            1.0              3.0\n",
       "2071            5.0              4.0\n",
       "2072           10.0              1.0\n",
       "2073            7.0             18.0\n",
       "\n",
       "[399 rows x 2 columns]"
      ]
     },
     "execution_count": 23,
     "metadata": {},
     "output_type": "execute_result"
    }
   ],
   "source": [
    "results[['Pred_Position', 'Actual_Position']]"
   ]
  },
  {
   "cell_type": "code",
   "execution_count": 24,
   "metadata": {},
   "outputs": [
    {
     "data": {
      "text/plain": [
       "18.463659147869674"
      ]
     },
     "execution_count": 24,
     "metadata": {},
     "output_type": "execute_result"
    }
   ],
   "source": [
    "mean_squared_error(results['Pred_Position'], results['Actual_Position'])"
   ]
  },
  {
   "cell_type": "code",
   "execution_count": 25,
   "metadata": {},
   "outputs": [
    {
     "data": {
      "text/plain": [
       "3.1604010025062657"
      ]
     },
     "execution_count": 25,
     "metadata": {},
     "output_type": "execute_result"
    }
   ],
   "source": [
    "mean_absolute_error(results['Pred_Position'], results['Actual_Position'])"
   ]
  },
  {
   "cell_type": "code",
   "execution_count": 26,
   "metadata": {},
   "outputs": [],
   "source": [
    "pred2 = model.predict(train_X)"
   ]
  },
  {
   "cell_type": "code",
   "execution_count": 27,
   "metadata": {},
   "outputs": [],
   "source": [
    "results2 = pd.DataFrame({'Pred': pred2, 'Actual': train_y, 'Actual_Position': train_data['Position'], 'Race': train_data['OfficialEventName'], 'Driver': train_data['DriverNumber']})"
   ]
  },
  {
   "cell_type": "code",
   "execution_count": 28,
   "metadata": {},
   "outputs": [],
   "source": [
    "results2['Pred_Position'] = results2.groupby('Race')['Pred'].rank(method = 'first')"
   ]
  },
  {
   "cell_type": "code",
   "execution_count": 29,
   "metadata": {},
   "outputs": [
    {
     "data": {
      "text/html": [
       "<div>\n",
       "<style scoped>\n",
       "    .dataframe tbody tr th:only-of-type {\n",
       "        vertical-align: middle;\n",
       "    }\n",
       "\n",
       "    .dataframe tbody tr th {\n",
       "        vertical-align: top;\n",
       "    }\n",
       "\n",
       "    .dataframe thead th {\n",
       "        text-align: right;\n",
       "    }\n",
       "</style>\n",
       "<table border=\"1\" class=\"dataframe\">\n",
       "  <thead>\n",
       "    <tr style=\"text-align: right;\">\n",
       "      <th></th>\n",
       "      <th>Pred_Position</th>\n",
       "      <th>Actual_Position</th>\n",
       "    </tr>\n",
       "  </thead>\n",
       "  <tbody>\n",
       "    <tr>\n",
       "      <th>count</th>\n",
       "      <td>1555.000000</td>\n",
       "      <td>1555.000000</td>\n",
       "    </tr>\n",
       "    <tr>\n",
       "      <th>mean</th>\n",
       "      <td>10.473312</td>\n",
       "      <td>10.470740</td>\n",
       "    </tr>\n",
       "    <tr>\n",
       "      <th>std</th>\n",
       "      <td>5.757746</td>\n",
       "      <td>5.751443</td>\n",
       "    </tr>\n",
       "    <tr>\n",
       "      <th>min</th>\n",
       "      <td>1.000000</td>\n",
       "      <td>1.000000</td>\n",
       "    </tr>\n",
       "    <tr>\n",
       "      <th>25%</th>\n",
       "      <td>5.000000</td>\n",
       "      <td>5.500000</td>\n",
       "    </tr>\n",
       "    <tr>\n",
       "      <th>50%</th>\n",
       "      <td>10.000000</td>\n",
       "      <td>10.000000</td>\n",
       "    </tr>\n",
       "    <tr>\n",
       "      <th>75%</th>\n",
       "      <td>15.000000</td>\n",
       "      <td>15.000000</td>\n",
       "    </tr>\n",
       "    <tr>\n",
       "      <th>max</th>\n",
       "      <td>20.000000</td>\n",
       "      <td>20.000000</td>\n",
       "    </tr>\n",
       "  </tbody>\n",
       "</table>\n",
       "</div>"
      ],
      "text/plain": [
       "       Pred_Position  Actual_Position\n",
       "count    1555.000000      1555.000000\n",
       "mean       10.473312        10.470740\n",
       "std         5.757746         5.751443\n",
       "min         1.000000         1.000000\n",
       "25%         5.000000         5.500000\n",
       "50%        10.000000        10.000000\n",
       "75%        15.000000        15.000000\n",
       "max        20.000000        20.000000"
      ]
     },
     "execution_count": 29,
     "metadata": {},
     "output_type": "execute_result"
    }
   ],
   "source": [
    "results2[['Pred_Position', 'Actual_Position']].describe()"
   ]
  },
  {
   "cell_type": "code",
   "execution_count": 30,
   "metadata": {},
   "outputs": [
    {
     "data": {
      "text/html": [
       "<div>\n",
       "<style scoped>\n",
       "    .dataframe tbody tr th:only-of-type {\n",
       "        vertical-align: middle;\n",
       "    }\n",
       "\n",
       "    .dataframe tbody tr th {\n",
       "        vertical-align: top;\n",
       "    }\n",
       "\n",
       "    .dataframe thead th {\n",
       "        text-align: right;\n",
       "    }\n",
       "</style>\n",
       "<table border=\"1\" class=\"dataframe\">\n",
       "  <thead>\n",
       "    <tr style=\"text-align: right;\">\n",
       "      <th></th>\n",
       "      <th>Pred_Position</th>\n",
       "      <th>Actual_Position</th>\n",
       "    </tr>\n",
       "  </thead>\n",
       "  <tbody>\n",
       "    <tr>\n",
       "      <th>100</th>\n",
       "      <td>16.0</td>\n",
       "      <td>10.0</td>\n",
       "    </tr>\n",
       "    <tr>\n",
       "      <th>101</th>\n",
       "      <td>15.0</td>\n",
       "      <td>16.0</td>\n",
       "    </tr>\n",
       "    <tr>\n",
       "      <th>102</th>\n",
       "      <td>10.0</td>\n",
       "      <td>9.0</td>\n",
       "    </tr>\n",
       "    <tr>\n",
       "      <th>103</th>\n",
       "      <td>12.0</td>\n",
       "      <td>6.0</td>\n",
       "    </tr>\n",
       "    <tr>\n",
       "      <th>104</th>\n",
       "      <td>11.0</td>\n",
       "      <td>7.0</td>\n",
       "    </tr>\n",
       "    <tr>\n",
       "      <th>...</th>\n",
       "      <td>...</td>\n",
       "      <td>...</td>\n",
       "    </tr>\n",
       "    <tr>\n",
       "      <th>1670</th>\n",
       "      <td>14.0</td>\n",
       "      <td>11.0</td>\n",
       "    </tr>\n",
       "    <tr>\n",
       "      <th>1671</th>\n",
       "      <td>9.0</td>\n",
       "      <td>9.0</td>\n",
       "    </tr>\n",
       "    <tr>\n",
       "      <th>1672</th>\n",
       "      <td>8.0</td>\n",
       "      <td>14.0</td>\n",
       "    </tr>\n",
       "    <tr>\n",
       "      <th>1673</th>\n",
       "      <td>7.0</td>\n",
       "      <td>4.0</td>\n",
       "    </tr>\n",
       "    <tr>\n",
       "      <th>1674</th>\n",
       "      <td>5.0</td>\n",
       "      <td>8.0</td>\n",
       "    </tr>\n",
       "  </tbody>\n",
       "</table>\n",
       "<p>1555 rows × 2 columns</p>\n",
       "</div>"
      ],
      "text/plain": [
       "      Pred_Position  Actual_Position\n",
       "100            16.0             10.0\n",
       "101            15.0             16.0\n",
       "102            10.0              9.0\n",
       "103            12.0              6.0\n",
       "104            11.0              7.0\n",
       "...             ...              ...\n",
       "1670           14.0             11.0\n",
       "1671            9.0              9.0\n",
       "1672            8.0             14.0\n",
       "1673            7.0              4.0\n",
       "1674            5.0              8.0\n",
       "\n",
       "[1555 rows x 2 columns]"
      ]
     },
     "execution_count": 30,
     "metadata": {},
     "output_type": "execute_result"
    }
   ],
   "source": [
    "results2[['Pred_Position', 'Actual_Position']]"
   ]
  },
  {
   "cell_type": "code",
   "execution_count": 31,
   "metadata": {},
   "outputs": [
    {
     "data": {
      "text/plain": [
       "13.24662379421222"
      ]
     },
     "execution_count": 31,
     "metadata": {},
     "output_type": "execute_result"
    }
   ],
   "source": [
    "mean_squared_error(results2['Pred_Position'], results2['Actual_Position'])"
   ]
  },
  {
   "cell_type": "code",
   "execution_count": 32,
   "metadata": {},
   "outputs": [
    {
     "data": {
      "text/plain": [
       "2.5491961414791"
      ]
     },
     "execution_count": 32,
     "metadata": {},
     "output_type": "execute_result"
    }
   ],
   "source": [
    "mean_absolute_error(results2['Pred_Position'], results2['Actual_Position'])"
   ]
  },
  {
   "cell_type": "code",
   "execution_count": 33,
   "metadata": {},
   "outputs": [
    {
     "data": {
      "text/plain": [
       "['model.pkl']"
      ]
     },
     "execution_count": 33,
     "metadata": {},
     "output_type": "execute_result"
    }
   ],
   "source": [
    "joblib.dump(model, 'model.pkl')"
   ]
  },
  {
   "cell_type": "code",
   "execution_count": null,
   "metadata": {},
   "outputs": [],
   "source": []
  }
 ],
 "metadata": {
  "kernelspec": {
   "display_name": "base",
   "language": "python",
   "name": "python3"
  },
  "language_info": {
   "codemirror_mode": {
    "name": "ipython",
    "version": 3
   },
   "file_extension": ".py",
   "mimetype": "text/x-python",
   "name": "python",
   "nbconvert_exporter": "python",
   "pygments_lexer": "ipython3",
   "version": "3.8.5"
  },
  "orig_nbformat": 4
 },
 "nbformat": 4,
 "nbformat_minor": 2
}
