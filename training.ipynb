{
 "cells": [
  {
   "cell_type": "code",
   "execution_count": 32,
   "metadata": {},
   "outputs": [],
   "source": [
    "import pandas as pd\n",
    "import numpy as np\n",
    "from sklearn import linear_model\n",
    "import joblib\n",
    "import numpy as np\n",
    "from sklearn.metrics import mean_squared_error\n",
    "from sklearn.model_selection import GridSearchCV\n",
    "from sklearn import tree"
   ]
  },
  {
   "cell_type": "code",
   "execution_count": 33,
   "metadata": {},
   "outputs": [],
   "source": [
    "data = pd.read_pickle('train_data.pkl')"
   ]
  },
  {
   "cell_type": "code",
   "execution_count": 34,
   "metadata": {},
   "outputs": [
    {
     "data": {
      "text/plain": [
       "Index(['DriverNumber', 'Time_1', 'TyreLife_1', 'LapPercent_1', 'Compound_1',\n",
       "       'LapTime_1', 'Team', 'Driver', 'Time_1_1', 'TyreLife_1_1',\n",
       "       'LapPercent_1_1', 'Compound_1_1', 'LapTime_1_1', 'Time_2', 'TyreLife_2',\n",
       "       'LapPercent_2', 'Compound_2', 'LapTime_2', 'Time_1_2', 'TyreLife_1_2',\n",
       "       'LapPercent_1_2', 'Compound_1_2', 'LapTime_1_2', 'Position_curr',\n",
       "       'LapPercent_curr', 'Position_prev', 'LapPercent_prev', 'RoundNumber',\n",
       "       'Country', 'Location', 'OfficialEventName', 'EventDate', 'EventName',\n",
       "       'EventFormat', 'Compound_1_', 'Compound_1_HARD', 'Compound_1_HYPERSOFT',\n",
       "       'Compound_1_INTERMEDIATE', 'Compound_1_MEDIUM', 'Compound_1_SOFT',\n",
       "       'Compound_1_SUPERSOFT', 'Compound_1_ULTRASOFT', 'Compound_1_WET',\n",
       "       'Compound_1_1_', 'Compound_1_1_HARD', 'Compound_1_1_HYPERSOFT',\n",
       "       'Compound_1_1_INTERMEDIATE', 'Compound_1_1_MEDIUM', 'Compound_1_1_SOFT',\n",
       "       'Compound_1_1_SUPERSOFT', 'Compound_1_1_TEST',\n",
       "       'Compound_1_1_TEST_UNKNOWN', 'Compound_1_1_ULTRASOFT',\n",
       "       'Compound_1_1_WET', 'Compound_2_', 'Compound_2_HARD',\n",
       "       'Compound_2_HYPERSOFT', 'Compound_2_INTERMEDIATE', 'Compound_2_MEDIUM',\n",
       "       'Compound_2_SOFT', 'Compound_2_SUPERSOFT', 'Compound_2_TEST_UNKNOWN',\n",
       "       'Compound_2_ULTRASOFT', 'Compound_2_WET', 'Compound_1_2_',\n",
       "       'Compound_1_2_HARD', 'Compound_1_2_HYPERSOFT',\n",
       "       'Compound_1_2_INTERMEDIATE', 'Compound_1_2_MEDIUM', 'Compound_1_2_SOFT',\n",
       "       'Compound_1_2_SUPERSOFT', 'Compound_1_2_TEST',\n",
       "       'Compound_1_2_TEST_UNKNOWN', 'Compound_1_2_ULTRASOFT',\n",
       "       'Compound_1_2_WET'],\n",
       "      dtype='object')"
      ]
     },
     "execution_count": 34,
     "metadata": {},
     "output_type": "execute_result"
    }
   ],
   "source": [
    "data.columns"
   ]
  },
  {
   "cell_type": "code",
   "execution_count": 35,
   "metadata": {},
   "outputs": [],
   "source": [
    "data = data.dropna()"
   ]
  },
  {
   "cell_type": "code",
   "execution_count": 36,
   "metadata": {},
   "outputs": [
    {
     "data": {
      "text/plain": [
       "Index(['DriverNumber', 'Time_1', 'TyreLife_1', 'LapPercent_1', 'Compound_1',\n",
       "       'LapTime_1', 'Team', 'Driver', 'Time_1_1', 'TyreLife_1_1',\n",
       "       'LapPercent_1_1', 'Compound_1_1', 'LapTime_1_1', 'Time_2', 'TyreLife_2',\n",
       "       'LapPercent_2', 'Compound_2', 'LapTime_2', 'Time_1_2', 'TyreLife_1_2',\n",
       "       'LapPercent_1_2', 'Compound_1_2', 'LapTime_1_2', 'Position_curr',\n",
       "       'LapPercent_curr', 'Position_prev', 'LapPercent_prev', 'RoundNumber',\n",
       "       'Country', 'Location', 'OfficialEventName', 'EventDate', 'EventName',\n",
       "       'EventFormat', 'Compound_1_', 'Compound_1_HARD', 'Compound_1_HYPERSOFT',\n",
       "       'Compound_1_INTERMEDIATE', 'Compound_1_MEDIUM', 'Compound_1_SOFT',\n",
       "       'Compound_1_SUPERSOFT', 'Compound_1_ULTRASOFT', 'Compound_1_WET',\n",
       "       'Compound_1_1_', 'Compound_1_1_HARD', 'Compound_1_1_HYPERSOFT',\n",
       "       'Compound_1_1_INTERMEDIATE', 'Compound_1_1_MEDIUM', 'Compound_1_1_SOFT',\n",
       "       'Compound_1_1_SUPERSOFT', 'Compound_1_1_TEST',\n",
       "       'Compound_1_1_TEST_UNKNOWN', 'Compound_1_1_ULTRASOFT',\n",
       "       'Compound_1_1_WET', 'Compound_2_', 'Compound_2_HARD',\n",
       "       'Compound_2_HYPERSOFT', 'Compound_2_INTERMEDIATE', 'Compound_2_MEDIUM',\n",
       "       'Compound_2_SOFT', 'Compound_2_SUPERSOFT', 'Compound_2_TEST_UNKNOWN',\n",
       "       'Compound_2_ULTRASOFT', 'Compound_2_WET', 'Compound_1_2_',\n",
       "       'Compound_1_2_HARD', 'Compound_1_2_HYPERSOFT',\n",
       "       'Compound_1_2_INTERMEDIATE', 'Compound_1_2_MEDIUM', 'Compound_1_2_SOFT',\n",
       "       'Compound_1_2_SUPERSOFT', 'Compound_1_2_TEST',\n",
       "       'Compound_1_2_TEST_UNKNOWN', 'Compound_1_2_ULTRASOFT',\n",
       "       'Compound_1_2_WET'],\n",
       "      dtype='object')"
      ]
     },
     "execution_count": 36,
     "metadata": {},
     "output_type": "execute_result"
    }
   ],
   "source": [
    "data.columns"
   ]
  },
  {
   "cell_type": "code",
   "execution_count": 37,
   "metadata": {},
   "outputs": [],
   "source": [
    "train_data = data[data['EventDate'] <= np.datetime64('2022-12-31')]\n",
    "test_data = data[data['EventDate'] > np.datetime64('2022-12-31')]"
   ]
  },
  {
   "cell_type": "code",
   "execution_count": 38,
   "metadata": {},
   "outputs": [],
   "source": [
    "X_cols =['TyreLife_1', 'LapPercent_1', 'TyreLife_1_1',\n",
    "       'LapPercent_1_1', 'TyreLife_2',\n",
    "       'LapPercent_2', 'TyreLife_1_2',\n",
    "       'LapPercent_1_2', 'Position_prev', 'LapPercent_prev']"
   ]
  },
  {
   "cell_type": "code",
   "execution_count": 39,
   "metadata": {},
   "outputs": [],
   "source": [
    "train_X = train_data[X_cols]\n",
    "train_y = train_data['LapPercent_curr']"
   ]
  },
  {
   "cell_type": "code",
   "execution_count": 40,
   "metadata": {},
   "outputs": [],
   "source": [
    "train_X.to_pickle('train_X.pkl')"
   ]
  },
  {
   "cell_type": "code",
   "execution_count": 41,
   "metadata": {},
   "outputs": [
    {
     "data": {
      "text/plain": [
       "10"
      ]
     },
     "execution_count": 41,
     "metadata": {},
     "output_type": "execute_result"
    }
   ],
   "source": [
    "train_X.columns.size"
   ]
  },
  {
   "cell_type": "code",
   "execution_count": 42,
   "metadata": {},
   "outputs": [
    {
     "data": {
      "text/html": [
       "<div>\n",
       "<style scoped>\n",
       "    .dataframe tbody tr th:only-of-type {\n",
       "        vertical-align: middle;\n",
       "    }\n",
       "\n",
       "    .dataframe tbody tr th {\n",
       "        vertical-align: top;\n",
       "    }\n",
       "\n",
       "    .dataframe thead th {\n",
       "        text-align: right;\n",
       "    }\n",
       "</style>\n",
       "<table border=\"1\" class=\"dataframe\">\n",
       "  <thead>\n",
       "    <tr style=\"text-align: right;\">\n",
       "      <th></th>\n",
       "      <th>TyreLife_1</th>\n",
       "      <th>LapPercent_1</th>\n",
       "      <th>TyreLife_1_1</th>\n",
       "      <th>LapPercent_1_1</th>\n",
       "      <th>TyreLife_2</th>\n",
       "      <th>LapPercent_2</th>\n",
       "      <th>TyreLife_1_2</th>\n",
       "      <th>LapPercent_1_2</th>\n",
       "      <th>Position_prev</th>\n",
       "      <th>LapPercent_prev</th>\n",
       "    </tr>\n",
       "  </thead>\n",
       "  <tbody>\n",
       "    <tr>\n",
       "      <th>0</th>\n",
       "      <td>2.0</td>\n",
       "      <td>0.018878</td>\n",
       "      <td>4.0</td>\n",
       "      <td>0.022447</td>\n",
       "      <td>2.0</td>\n",
       "      <td>0.015754</td>\n",
       "      <td>4.0</td>\n",
       "      <td>0.025429</td>\n",
       "      <td>20.0</td>\n",
       "      <td>0.050897</td>\n",
       "    </tr>\n",
       "    <tr>\n",
       "      <th>1</th>\n",
       "      <td>2.0</td>\n",
       "      <td>0.028575</td>\n",
       "      <td>5.0</td>\n",
       "      <td>0.038875</td>\n",
       "      <td>12.0</td>\n",
       "      <td>0.022835</td>\n",
       "      <td>14.0</td>\n",
       "      <td>0.029816</td>\n",
       "      <td>13.0</td>\n",
       "      <td>0.035003</td>\n",
       "    </tr>\n",
       "    <tr>\n",
       "      <th>2</th>\n",
       "      <td>2.0</td>\n",
       "      <td>0.023754</td>\n",
       "      <td>4.0</td>\n",
       "      <td>0.025653</td>\n",
       "      <td>2.0</td>\n",
       "      <td>0.016311</td>\n",
       "      <td>4.0</td>\n",
       "      <td>0.022223</td>\n",
       "      <td>11.0</td>\n",
       "      <td>0.029976</td>\n",
       "    </tr>\n",
       "    <tr>\n",
       "      <th>3</th>\n",
       "      <td>3.0</td>\n",
       "      <td>0.024358</td>\n",
       "      <td>9.0</td>\n",
       "      <td>0.033418</td>\n",
       "      <td>2.0</td>\n",
       "      <td>0.028447</td>\n",
       "      <td>8.0</td>\n",
       "      <td>0.033323</td>\n",
       "      <td>18.0</td>\n",
       "      <td>0.042778</td>\n",
       "    </tr>\n",
       "    <tr>\n",
       "      <th>4</th>\n",
       "      <td>2.0</td>\n",
       "      <td>0.025467</td>\n",
       "      <td>7.0</td>\n",
       "      <td>0.028761</td>\n",
       "      <td>2.0</td>\n",
       "      <td>0.028558</td>\n",
       "      <td>11.0</td>\n",
       "      <td>0.038211</td>\n",
       "      <td>14.0</td>\n",
       "      <td>0.037775</td>\n",
       "    </tr>\n",
       "    <tr>\n",
       "      <th>...</th>\n",
       "      <td>...</td>\n",
       "      <td>...</td>\n",
       "      <td>...</td>\n",
       "      <td>...</td>\n",
       "      <td>...</td>\n",
       "      <td>...</td>\n",
       "      <td>...</td>\n",
       "      <td>...</td>\n",
       "      <td>...</td>\n",
       "      <td>...</td>\n",
       "    </tr>\n",
       "    <tr>\n",
       "      <th>1861</th>\n",
       "      <td>2.0</td>\n",
       "      <td>0.014521</td>\n",
       "      <td>5.0</td>\n",
       "      <td>0.014660</td>\n",
       "      <td>2.0</td>\n",
       "      <td>0.010476</td>\n",
       "      <td>5.0</td>\n",
       "      <td>0.011380</td>\n",
       "      <td>10.0</td>\n",
       "      <td>0.015879</td>\n",
       "    </tr>\n",
       "    <tr>\n",
       "      <th>1862</th>\n",
       "      <td>2.0</td>\n",
       "      <td>0.000000</td>\n",
       "      <td>5.0</td>\n",
       "      <td>0.006268</td>\n",
       "      <td>5.0</td>\n",
       "      <td>0.007223</td>\n",
       "      <td>2.0</td>\n",
       "      <td>0.008022</td>\n",
       "      <td>3.0</td>\n",
       "      <td>0.003973</td>\n",
       "    </tr>\n",
       "    <tr>\n",
       "      <th>1863</th>\n",
       "      <td>2.0</td>\n",
       "      <td>0.007330</td>\n",
       "      <td>5.0</td>\n",
       "      <td>0.015964</td>\n",
       "      <td>2.0</td>\n",
       "      <td>0.014669</td>\n",
       "      <td>8.0</td>\n",
       "      <td>0.027435</td>\n",
       "      <td>17.0</td>\n",
       "      <td>0.033995</td>\n",
       "    </tr>\n",
       "    <tr>\n",
       "      <th>1864</th>\n",
       "      <td>2.0</td>\n",
       "      <td>0.002539</td>\n",
       "      <td>5.0</td>\n",
       "      <td>0.014036</td>\n",
       "      <td>3.0</td>\n",
       "      <td>0.004005</td>\n",
       "      <td>8.0</td>\n",
       "      <td>0.013800</td>\n",
       "      <td>2.0</td>\n",
       "      <td>0.003909</td>\n",
       "    </tr>\n",
       "    <tr>\n",
       "      <th>1865</th>\n",
       "      <td>2.0</td>\n",
       "      <td>0.011797</td>\n",
       "      <td>7.0</td>\n",
       "      <td>0.013759</td>\n",
       "      <td>2.0</td>\n",
       "      <td>0.013553</td>\n",
       "      <td>6.0</td>\n",
       "      <td>0.029021</td>\n",
       "      <td>6.0</td>\n",
       "      <td>0.008049</td>\n",
       "    </tr>\n",
       "  </tbody>\n",
       "</table>\n",
       "<p>1600 rows × 10 columns</p>\n",
       "</div>"
      ],
      "text/plain": [
       "      TyreLife_1  LapPercent_1  TyreLife_1_1  LapPercent_1_1  TyreLife_2  \\\n",
       "0            2.0      0.018878           4.0        0.022447         2.0   \n",
       "1            2.0      0.028575           5.0        0.038875        12.0   \n",
       "2            2.0      0.023754           4.0        0.025653         2.0   \n",
       "3            3.0      0.024358           9.0        0.033418         2.0   \n",
       "4            2.0      0.025467           7.0        0.028761         2.0   \n",
       "...          ...           ...           ...             ...         ...   \n",
       "1861         2.0      0.014521           5.0        0.014660         2.0   \n",
       "1862         2.0      0.000000           5.0        0.006268         5.0   \n",
       "1863         2.0      0.007330           5.0        0.015964         2.0   \n",
       "1864         2.0      0.002539           5.0        0.014036         3.0   \n",
       "1865         2.0      0.011797           7.0        0.013759         2.0   \n",
       "\n",
       "      LapPercent_2  TyreLife_1_2  LapPercent_1_2  Position_prev  \\\n",
       "0         0.015754           4.0        0.025429           20.0   \n",
       "1         0.022835          14.0        0.029816           13.0   \n",
       "2         0.016311           4.0        0.022223           11.0   \n",
       "3         0.028447           8.0        0.033323           18.0   \n",
       "4         0.028558          11.0        0.038211           14.0   \n",
       "...            ...           ...             ...            ...   \n",
       "1861      0.010476           5.0        0.011380           10.0   \n",
       "1862      0.007223           2.0        0.008022            3.0   \n",
       "1863      0.014669           8.0        0.027435           17.0   \n",
       "1864      0.004005           8.0        0.013800            2.0   \n",
       "1865      0.013553           6.0        0.029021            6.0   \n",
       "\n",
       "      LapPercent_prev  \n",
       "0            0.050897  \n",
       "1            0.035003  \n",
       "2            0.029976  \n",
       "3            0.042778  \n",
       "4            0.037775  \n",
       "...               ...  \n",
       "1861         0.015879  \n",
       "1862         0.003973  \n",
       "1863         0.033995  \n",
       "1864         0.003909  \n",
       "1865         0.008049  \n",
       "\n",
       "[1600 rows x 10 columns]"
      ]
     },
     "execution_count": 42,
     "metadata": {},
     "output_type": "execute_result"
    }
   ],
   "source": [
    "train_X"
   ]
  },
  {
   "cell_type": "code",
   "execution_count": 59,
   "metadata": {},
   "outputs": [],
   "source": [
    "model = tree.DecisionTreeRegressor()"
   ]
  },
  {
   "cell_type": "code",
   "execution_count": 60,
   "metadata": {},
   "outputs": [],
   "source": [
    "params = {'max_depth':[2,3,4,5,6,7,8]}\n",
    "best_model = GridSearchCV(model, param_grid = params).fit(train_X, train_y)"
   ]
  },
  {
   "cell_type": "code",
   "execution_count": 61,
   "metadata": {},
   "outputs": [
    {
     "data": {
      "text/plain": [
       "{'max_depth': 2}"
      ]
     },
     "execution_count": 61,
     "metadata": {},
     "output_type": "execute_result"
    }
   ],
   "source": [
    "best_model.best_params_"
   ]
  },
  {
   "cell_type": "code",
   "execution_count": 62,
   "metadata": {},
   "outputs": [],
   "source": [
    "test_X = test_data[X_cols]\n",
    "test_y = test_data['LapPercent_curr']"
   ]
  },
  {
   "cell_type": "code",
   "execution_count": 63,
   "metadata": {},
   "outputs": [],
   "source": [
    "pred = best_model.predict(test_X)"
   ]
  },
  {
   "cell_type": "code",
   "execution_count": 64,
   "metadata": {},
   "outputs": [
    {
     "data": {
      "text/plain": [
       "array([0.00830946, 0.01972438, 0.02970873])"
      ]
     },
     "execution_count": 64,
     "metadata": {},
     "output_type": "execute_result"
    }
   ],
   "source": [
    "np.unique(pred)"
   ]
  },
  {
   "cell_type": "code",
   "execution_count": 49,
   "metadata": {},
   "outputs": [],
   "source": [
    "results = pd.DataFrame({'pred': pred, 'actual': test_y})"
   ]
  },
  {
   "cell_type": "code",
   "execution_count": 50,
   "metadata": {},
   "outputs": [
    {
     "data": {
      "text/html": [
       "<div>\n",
       "<style scoped>\n",
       "    .dataframe tbody tr th:only-of-type {\n",
       "        vertical-align: middle;\n",
       "    }\n",
       "\n",
       "    .dataframe tbody tr th {\n",
       "        vertical-align: top;\n",
       "    }\n",
       "\n",
       "    .dataframe thead th {\n",
       "        text-align: right;\n",
       "    }\n",
       "</style>\n",
       "<table border=\"1\" class=\"dataframe\">\n",
       "  <thead>\n",
       "    <tr style=\"text-align: right;\">\n",
       "      <th></th>\n",
       "      <th>pred</th>\n",
       "      <th>actual</th>\n",
       "    </tr>\n",
       "  </thead>\n",
       "  <tbody>\n",
       "    <tr>\n",
       "      <th>1874</th>\n",
       "      <td>0.005545</td>\n",
       "      <td>0.000000</td>\n",
       "    </tr>\n",
       "    <tr>\n",
       "      <th>1875</th>\n",
       "      <td>0.023181</td>\n",
       "      <td>0.027567</td>\n",
       "    </tr>\n",
       "    <tr>\n",
       "      <th>1876</th>\n",
       "      <td>0.002593</td>\n",
       "      <td>0.001538</td>\n",
       "    </tr>\n",
       "    <tr>\n",
       "      <th>1877</th>\n",
       "      <td>0.011175</td>\n",
       "      <td>0.007000</td>\n",
       "    </tr>\n",
       "    <tr>\n",
       "      <th>1878</th>\n",
       "      <td>0.005545</td>\n",
       "      <td>0.003255</td>\n",
       "    </tr>\n",
       "    <tr>\n",
       "      <th>...</th>\n",
       "      <td>...</td>\n",
       "      <td>...</td>\n",
       "    </tr>\n",
       "    <tr>\n",
       "      <th>2000</th>\n",
       "      <td>0.023181</td>\n",
       "      <td>0.058647</td>\n",
       "    </tr>\n",
       "    <tr>\n",
       "      <th>2001</th>\n",
       "      <td>0.029686</td>\n",
       "      <td>0.020070</td>\n",
       "    </tr>\n",
       "    <tr>\n",
       "      <th>2003</th>\n",
       "      <td>0.013011</td>\n",
       "      <td>0.014366</td>\n",
       "    </tr>\n",
       "    <tr>\n",
       "      <th>2004</th>\n",
       "      <td>0.023512</td>\n",
       "      <td>0.039327</td>\n",
       "    </tr>\n",
       "    <tr>\n",
       "      <th>2005</th>\n",
       "      <td>0.013011</td>\n",
       "      <td>0.011864</td>\n",
       "    </tr>\n",
       "  </tbody>\n",
       "</table>\n",
       "<p>121 rows × 2 columns</p>\n",
       "</div>"
      ],
      "text/plain": [
       "          pred    actual\n",
       "1874  0.005545  0.000000\n",
       "1875  0.023181  0.027567\n",
       "1876  0.002593  0.001538\n",
       "1877  0.011175  0.007000\n",
       "1878  0.005545  0.003255\n",
       "...        ...       ...\n",
       "2000  0.023181  0.058647\n",
       "2001  0.029686  0.020070\n",
       "2003  0.013011  0.014366\n",
       "2004  0.023512  0.039327\n",
       "2005  0.013011  0.011864\n",
       "\n",
       "[121 rows x 2 columns]"
      ]
     },
     "execution_count": 50,
     "metadata": {},
     "output_type": "execute_result"
    }
   ],
   "source": [
    "results"
   ]
  },
  {
   "cell_type": "code",
   "execution_count": 51,
   "metadata": {},
   "outputs": [
    {
     "data": {
      "text/html": [
       "<div>\n",
       "<style scoped>\n",
       "    .dataframe tbody tr th:only-of-type {\n",
       "        vertical-align: middle;\n",
       "    }\n",
       "\n",
       "    .dataframe tbody tr th {\n",
       "        vertical-align: top;\n",
       "    }\n",
       "\n",
       "    .dataframe thead th {\n",
       "        text-align: right;\n",
       "    }\n",
       "</style>\n",
       "<table border=\"1\" class=\"dataframe\">\n",
       "  <thead>\n",
       "    <tr style=\"text-align: right;\">\n",
       "      <th></th>\n",
       "      <th>pred</th>\n",
       "      <th>actual</th>\n",
       "    </tr>\n",
       "  </thead>\n",
       "  <tbody>\n",
       "    <tr>\n",
       "      <th>count</th>\n",
       "      <td>121.000000</td>\n",
       "      <td>121.000000</td>\n",
       "    </tr>\n",
       "    <tr>\n",
       "      <th>mean</th>\n",
       "      <td>0.017294</td>\n",
       "      <td>0.017587</td>\n",
       "    </tr>\n",
       "    <tr>\n",
       "      <th>std</th>\n",
       "      <td>0.013896</td>\n",
       "      <td>0.041279</td>\n",
       "    </tr>\n",
       "    <tr>\n",
       "      <th>min</th>\n",
       "      <td>0.002593</td>\n",
       "      <td>0.000000</td>\n",
       "    </tr>\n",
       "    <tr>\n",
       "      <th>25%</th>\n",
       "      <td>0.013011</td>\n",
       "      <td>0.007507</td>\n",
       "    </tr>\n",
       "    <tr>\n",
       "      <th>50%</th>\n",
       "      <td>0.018571</td>\n",
       "      <td>0.012574</td>\n",
       "    </tr>\n",
       "    <tr>\n",
       "      <th>75%</th>\n",
       "      <td>0.023181</td>\n",
       "      <td>0.019237</td>\n",
       "    </tr>\n",
       "    <tr>\n",
       "      <th>max</th>\n",
       "      <td>0.144024</td>\n",
       "      <td>0.455956</td>\n",
       "    </tr>\n",
       "  </tbody>\n",
       "</table>\n",
       "</div>"
      ],
      "text/plain": [
       "             pred      actual\n",
       "count  121.000000  121.000000\n",
       "mean     0.017294    0.017587\n",
       "std      0.013896    0.041279\n",
       "min      0.002593    0.000000\n",
       "25%      0.013011    0.007507\n",
       "50%      0.018571    0.012574\n",
       "75%      0.023181    0.019237\n",
       "max      0.144024    0.455956"
      ]
     },
     "execution_count": 51,
     "metadata": {},
     "output_type": "execute_result"
    }
   ],
   "source": [
    "results.describe()"
   ]
  },
  {
   "cell_type": "code",
   "execution_count": 52,
   "metadata": {},
   "outputs": [
    {
     "data": {
      "text/plain": [
       "['model.pkl']"
      ]
     },
     "execution_count": 52,
     "metadata": {},
     "output_type": "execute_result"
    }
   ],
   "source": [
    "joblib.dump(best_model, 'model.pkl')"
   ]
  },
  {
   "cell_type": "code",
   "execution_count": null,
   "metadata": {},
   "outputs": [],
   "source": []
  }
 ],
 "metadata": {
  "kernelspec": {
   "display_name": "base",
   "language": "python",
   "name": "python3"
  },
  "language_info": {
   "codemirror_mode": {
    "name": "ipython",
    "version": 3
   },
   "file_extension": ".py",
   "mimetype": "text/x-python",
   "name": "python",
   "nbconvert_exporter": "python",
   "pygments_lexer": "ipython3",
   "version": "3.8.5"
  },
  "orig_nbformat": 4
 },
 "nbformat": 4,
 "nbformat_minor": 2
}
